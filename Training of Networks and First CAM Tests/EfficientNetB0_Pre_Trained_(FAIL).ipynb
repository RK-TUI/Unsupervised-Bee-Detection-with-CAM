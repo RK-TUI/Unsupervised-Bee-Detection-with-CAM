{
  "nbformat": 4,
  "nbformat_minor": 0,
  "metadata": {
    "colab": {
      "name": "EfficientNetB0.ipynb",
      "provenance": [],
      "collapsed_sections": []
    },
    "kernelspec": {
      "name": "python3",
      "display_name": "Python 3"
    },
    "language_info": {
      "name": "python"
    },
    "accelerator": "GPU"
  },
  "cells": [
    {
      "cell_type": "markdown",
      "metadata": {
        "id": "DUiSXJJvhskD"
      },
      "source": [
        "# 0 - Test for GPU\n",
        "Execute the code below for printing the TF version and testing for GPU availability."
      ]
    },
    {
      "cell_type": "code",
      "metadata": {
        "colab": {
          "base_uri": "https://localhost:8080/"
        },
        "id": "lSsGuzKxhsKz",
        "outputId": "90084a0e-3e87-43e4-a6d4-5c1a6024967c"
      },
      "source": [
        "#@title Print TF version and GPU stats\n",
        "import tensorflow as tf\n",
        "import sys\n",
        "print('TensorFlow version:', tf.__version__)\n",
        "\n",
        "device_name = tf.test.gpu_device_name()\n",
        "if device_name != '/device:GPU:0':\n",
        "   raise SystemError('GPU device not found')\n",
        "print('Found GPU at: {}'.format(device_name), '', sep='\\n')\n",
        "!nvidia-smi"
      ],
      "execution_count": null,
      "outputs": [
        {
          "output_type": "stream",
          "name": "stdout",
          "text": [
            "TensorFlow version: 2.7.0\n",
            "Found GPU at: /device:GPU:0\n",
            "\n",
            "Fri Jan 14 15:00:21 2022       \n",
            "+-----------------------------------------------------------------------------+\n",
            "| NVIDIA-SMI 495.46       Driver Version: 460.32.03    CUDA Version: 11.2     |\n",
            "|-------------------------------+----------------------+----------------------+\n",
            "| GPU  Name        Persistence-M| Bus-Id        Disp.A | Volatile Uncorr. ECC |\n",
            "| Fan  Temp  Perf  Pwr:Usage/Cap|         Memory-Usage | GPU-Util  Compute M. |\n",
            "|                               |                      |               MIG M. |\n",
            "|===============================+======================+======================|\n",
            "|   0  Tesla K80           Off  | 00000000:00:04.0 Off |                    0 |\n",
            "| N/A   34C    P0    63W / 149W |    145MiB / 11441MiB |      1%      Default |\n",
            "|                               |                      |                  N/A |\n",
            "+-------------------------------+----------------------+----------------------+\n",
            "                                                                               \n",
            "+-----------------------------------------------------------------------------+\n",
            "| Processes:                                                                  |\n",
            "|  GPU   GI   CI        PID   Type   Process name                  GPU Memory |\n",
            "|        ID   ID                                                   Usage      |\n",
            "|=============================================================================|\n",
            "|  No running processes found                                                 |\n",
            "+-----------------------------------------------------------------------------+\n"
          ]
        }
      ]
    },
    {
      "cell_type": "markdown",
      "metadata": {
        "id": "bFE3Ct50n6SQ"
      },
      "source": [
        "# 1 - Explore and Preprocess the Data\n",
        "## 1.1 - Download and Plot the Data\n",
        "We'll start by downloading our dataset contained in a zip archive. Execute the code below for downloading and extracting the data to /tmp/bee-vs-wasp.zip."
      ]
    },
    {
      "cell_type": "code",
      "metadata": {
        "id": "W7uOiq8_hxWA"
      },
      "source": [
        "#@title Dataset Download and Preprocessing\n",
        "\n",
        "import requests, os, zipfile\n",
        "import numpy as np\n",
        "\n",
        "def download_file_from_google_drive(id, destination):\n",
        "    URL = \"https://docs.google.com/uc?export=download\"\n",
        "    session = requests.Session()\n",
        "    response = session.get(URL, params = { 'id' : id }, stream = True)\n",
        "    token = get_confirm_token(response)\n",
        "    if token:\n",
        "        params = { 'id' : id, 'confirm' : token }\n",
        "        response = session.get(URL, params = params, stream = True)\n",
        "    save_response_content(response, destination)    \n",
        "\n",
        "def get_confirm_token(response):\n",
        "    for key, value in response.cookies.items():\n",
        "        if key.startswith('download_warning'):\n",
        "            return value\n",
        "    return None\n",
        "\n",
        "def save_response_content(response, destination):\n",
        "    CHUNK_SIZE = 32768\n",
        "    with open(destination, \"wb\") as f:\n",
        "        for chunk in response.iter_content(CHUNK_SIZE):\n",
        "            if chunk: # filter out keep-alive new chunks\n",
        "                f.write(chunk)\n",
        "def unzip(file):\n",
        "    zip_ref = zipfile.ZipFile(file, 'r')\n",
        "    zip_ref.extractall('/tmp')\n",
        "    zip_ref.close()\n",
        "\n",
        "dataset_file = '/tmp/kaggle_bee_vs_wasp.zip'\n",
        "download_file_from_google_drive('1-aqpfT73D7HCQGoQEFg-phd3Mtsb9PiP',dataset_file)\n",
        "unzip('/tmp/kaggle_bee_vs_wasp.zip')"
      ],
      "execution_count": null,
      "outputs": []
    },
    {
      "cell_type": "markdown",
      "metadata": {
        "id": "GZn3GVjcoOTe"
      },
      "source": [
        "The base directory `/tmp/bee-vs-wasp` contains the subdirectories. Let's define the base directory:"
      ]
    },
    {
      "cell_type": "code",
      "metadata": {
        "id": "cMTYMTkpoYXL"
      },
      "source": [
        "import pandas as pd\n",
        "import numpy as np\n",
        "import cv2\n",
        "from tqdm import tqdm\n",
        "\n",
        "base_dir = '/tmp/kaggle_bee_vs_wasp/'"
      ],
      "execution_count": null,
      "outputs": []
    },
    {
      "cell_type": "markdown",
      "metadata": {
        "id": "v-EGvdRarKR4"
      },
      "source": [
        "Get the `labels.csv` of the Dataset:"
      ]
    },
    {
      "cell_type": "code",
      "metadata": {
        "id": "3CTi9KzboZ-h",
        "colab": {
          "base_uri": "https://localhost:8080/"
        },
        "outputId": "f4e03c86-e36a-415a-f15f-7094fa9c11a0"
      },
      "source": [
        "df = pd.read_csv(base_dir+'/labels.csv')\n",
        "df = df.set_index('id')\n",
        "\n",
        "# You can perform dataset subsampling by adding frac=training_subsample as argument to the sample function, \n",
        "# with training_subsample within [0,1].\n",
        "# For development, you should use a small fraction of the entire dataset rater than full dataset, e.g. 0.1.\n",
        "# For now lets use the whole Dataset\n",
        "training_subsample = 1 \n",
        "df = df.sample(frac=training_subsample,axis=0)\n",
        "\n",
        "\n",
        "# Replace \\\\ in path with / to load images properly\n",
        "for index in tqdm(df.index):    \n",
        "    df.loc[index,'path']=df.loc[index,'path'].replace('\\\\', '/') \n",
        "df['path'] = base_dir + df['path']"
      ],
      "execution_count": null,
      "outputs": [
        {
          "output_type": "stream",
          "name": "stderr",
          "text": [
            "100%|██████████| 11420/11420 [00:09<00:00, 1243.57it/s]\n"
          ]
        }
      ]
    },
    {
      "cell_type": "markdown",
      "metadata": {
        "id": "dXDAUUnmz2-s"
      },
      "source": [
        "\n",
        "Now we can create the training, validation and testdataset by filtering the dataframe:"
      ]
    },
    {
      "cell_type": "code",
      "metadata": {
        "id": "IJGkFjEMo4_J"
      },
      "source": [
        "# Firstly we create our training set from the data frame\n",
        "train_df = df.query(\"(is_validation==0) and (is_final_validation==0)\")\n",
        "train_classes = train_df[\"label\"]\n",
        "\n",
        "# Now we can do the same for the valdation set\n",
        "\n",
        "# filter out all validation images\n",
        "validation_df = df.query(\"(is_validation==1) and (is_final_validation==0)\")\n",
        "validation_classes = validation_df[\"label\"]\n",
        "# And now for the test set\n",
        "\n",
        "# filter out all validation images\n",
        "test_df = df.query(\"(is_validation==1) and (is_final_validation==0)\")"
      ],
      "execution_count": null,
      "outputs": []
    },
    {
      "cell_type": "markdown",
      "source": [
        "Now we create our Dataset Generators as learned in the lecture:"
      ],
      "metadata": {
        "id": "IJcXeBi1KcAh"
      }
    },
    {
      "cell_type": "code",
      "metadata": {
        "id": "eTKngoaY4VIm",
        "colab": {
          "base_uri": "https://localhost:8080/"
        },
        "outputId": "f875d4c3-5b16-4026-ea79-22e8b5d91d6e"
      },
      "source": [
        "#@title Prepare Data Generators\n",
        "from tensorflow.keras.preprocessing.image import ImageDataGenerator\n",
        "\n",
        "batch_size = 64\n",
        "\n",
        "# All images will be rescaled by 1./255\n",
        "train_datagen = ImageDataGenerator(rescale=1./255,\n",
        "                                   rotation_range=20,\n",
        "                                   width_shift_range=0.1,\n",
        "                                   height_shift_range=0.1,\n",
        "                                   zoom_range=0.4,\n",
        "                                   brightness_range=(.5, 1.5),\n",
        "                                   horizontal_flip=True,\n",
        "                                   vertical_flip=True,\n",
        "                                   fill_mode='nearest')\n",
        "val_datagen = ImageDataGenerator(rescale=1./255)\n",
        "test_datagen = ImageDataGenerator(rescale=1./255)\n",
        "\n",
        "# Flow training images in batches using train_datagen generator\n",
        "train_generator = train_datagen.flow_from_dataframe(\n",
        "                    train_df,\n",
        "                    x_col=\"path\",\n",
        "                    y_col=\"label\",\n",
        "                    target_size=(224,224),\n",
        "                    batch_size=batch_size,\n",
        "                    class_mode='categorical',\n",
        "                    shuffle=True,\n",
        "                    seed=42)\n",
        "\n",
        "num_classes = 4\n",
        "\n",
        "# Flow validation images in batches using val_datagen generator\n",
        "validation_generator = val_datagen.flow_from_dataframe(\n",
        "                    validation_df,\n",
        "                    x_col=\"path\",\n",
        "                    y_col=\"label\",\n",
        "                    target_size=(224,224),\n",
        "                    batch_size=batch_size,\n",
        "                    class_mode='categorical',\n",
        "                    shuffle=False)\n",
        "\n",
        "# Flow test images using test_datagen generator\n",
        "test_generator = test_datagen.flow_from_dataframe(\n",
        "                    test_df,\n",
        "                    x_col=\"path\",\n",
        "                    y_col=\"label\",\n",
        "                    target_size=(224,224),\n",
        "                    class_mode='categorical',\n",
        "                    shuffle=False)\n",
        "\n",
        "train_steps = np.ceil(train_generator.samples / train_generator.batch_size)\n",
        "val_steps = np.ceil(validation_generator.samples / validation_generator.batch_size)\n",
        "\n",
        "print(train_steps)\n",
        "print(val_steps)"
      ],
      "execution_count": null,
      "outputs": [
        {
          "output_type": "stream",
          "name": "stdout",
          "text": [
            "Found 7938 validated image filenames belonging to 4 classes.\n",
            "Found 1719 validated image filenames belonging to 4 classes.\n",
            "Found 1719 validated image filenames belonging to 4 classes.\n",
            "125.0\n",
            "27.0\n"
          ]
        }
      ]
    },
    {
      "cell_type": "markdown",
      "source": [
        "We now build and train a first model. For now lets use a fresh `EfficientNetB0` Model for the first test training:"
      ],
      "metadata": {
        "id": "1oBYYm1bKpFJ"
      }
    },
    {
      "cell_type": "code",
      "source": [
        "from tensorflow.keras import layers, Model\n",
        "from tensorflow.keras.applications.efficientnet import EfficientNetB0\n",
        "from tensorflow.keras.optimizers import Adam\n",
        "from tensorflow.keras.models import Sequential\n",
        "from tensorflow.keras import layers\n",
        "\n",
        "\n",
        "def build_model(input_shape, num_classes, summary=True):\n",
        "\n",
        "  pre_trained_model = EfficientNetB0(input_shape=input_shape, weights='imagenet', include_top=False)\n",
        "\n",
        "  x = layers.GlobalAveragePooling2D()(pre_trained_model.output)\n",
        "  x = layers.Dropout(0.2, name=\"top_dropout\")(x)\n",
        "  output = layers.Dense(num_classes, activation = 'softmax')(x)\n",
        "\n",
        "  # Define the model\n",
        "  model = Model(pre_trained_model.input, output, name='efn_model')\n",
        "\n",
        "  return model, pre_trained_model\n",
        "\n",
        "model, pre_trained_model = build_model((224,224,3), 4)\n",
        "pre_trained_model.trainable = False\n",
        "\n",
        "print(model.summary())"
      ],
      "metadata": {
        "id": "Oy17F8KB4bRD",
        "colab": {
          "base_uri": "https://localhost:8080/"
        },
        "outputId": "59aade40-89d9-4812-9341-e599ff96a8b7"
      },
      "execution_count": null,
      "outputs": [
        {
          "output_type": "stream",
          "name": "stdout",
          "text": [
            "Model: \"efn_model\"\n",
            "__________________________________________________________________________________________________\n",
            " Layer (type)                   Output Shape         Param #     Connected to                     \n",
            "==================================================================================================\n",
            " input_3 (InputLayer)           [(None, 224, 224, 3  0           []                               \n",
            "                                )]                                                                \n",
            "                                                                                                  \n",
            " rescaling_2 (Rescaling)        (None, 224, 224, 3)  0           ['input_3[0][0]']                \n",
            "                                                                                                  \n",
            " normalization_2 (Normalization  (None, 224, 224, 3)  7          ['rescaling_2[0][0]']            \n",
            " )                                                                                                \n",
            "                                                                                                  \n",
            " stem_conv_pad (ZeroPadding2D)  (None, 225, 225, 3)  0           ['normalization_2[0][0]']        \n",
            "                                                                                                  \n",
            " stem_conv (Conv2D)             (None, 112, 112, 32  864         ['stem_conv_pad[0][0]']          \n",
            "                                )                                                                 \n",
            "                                                                                                  \n",
            " stem_bn (BatchNormalization)   (None, 112, 112, 32  128         ['stem_conv[0][0]']              \n",
            "                                )                                                                 \n",
            "                                                                                                  \n",
            " stem_activation (Activation)   (None, 112, 112, 32  0           ['stem_bn[0][0]']                \n",
            "                                )                                                                 \n",
            "                                                                                                  \n",
            " block1a_dwconv (DepthwiseConv2  (None, 112, 112, 32  288        ['stem_activation[0][0]']        \n",
            " D)                             )                                                                 \n",
            "                                                                                                  \n",
            " block1a_bn (BatchNormalization  (None, 112, 112, 32  128        ['block1a_dwconv[0][0]']         \n",
            " )                              )                                                                 \n",
            "                                                                                                  \n",
            " block1a_activation (Activation  (None, 112, 112, 32  0          ['block1a_bn[0][0]']             \n",
            " )                              )                                                                 \n",
            "                                                                                                  \n",
            " block1a_se_squeeze (GlobalAver  (None, 32)          0           ['block1a_activation[0][0]']     \n",
            " agePooling2D)                                                                                    \n",
            "                                                                                                  \n",
            " block1a_se_reshape (Reshape)   (None, 1, 1, 32)     0           ['block1a_se_squeeze[0][0]']     \n",
            "                                                                                                  \n",
            " block1a_se_reduce (Conv2D)     (None, 1, 1, 8)      264         ['block1a_se_reshape[0][0]']     \n",
            "                                                                                                  \n",
            " block1a_se_expand (Conv2D)     (None, 1, 1, 32)     288         ['block1a_se_reduce[0][0]']      \n",
            "                                                                                                  \n",
            " block1a_se_excite (Multiply)   (None, 112, 112, 32  0           ['block1a_activation[0][0]',     \n",
            "                                )                                 'block1a_se_expand[0][0]']      \n",
            "                                                                                                  \n",
            " block1a_project_conv (Conv2D)  (None, 112, 112, 16  512         ['block1a_se_excite[0][0]']      \n",
            "                                )                                                                 \n",
            "                                                                                                  \n",
            " block1a_project_bn (BatchNorma  (None, 112, 112, 16  64         ['block1a_project_conv[0][0]']   \n",
            " lization)                      )                                                                 \n",
            "                                                                                                  \n",
            " block2a_expand_conv (Conv2D)   (None, 112, 112, 96  1536        ['block1a_project_bn[0][0]']     \n",
            "                                )                                                                 \n",
            "                                                                                                  \n",
            " block2a_expand_bn (BatchNormal  (None, 112, 112, 96  384        ['block2a_expand_conv[0][0]']    \n",
            " ization)                       )                                                                 \n",
            "                                                                                                  \n",
            " block2a_expand_activation (Act  (None, 112, 112, 96  0          ['block2a_expand_bn[0][0]']      \n",
            " ivation)                       )                                                                 \n",
            "                                                                                                  \n",
            " block2a_dwconv_pad (ZeroPaddin  (None, 113, 113, 96  0          ['block2a_expand_activation[0][0]\n",
            " g2D)                           )                                ']                               \n",
            "                                                                                                  \n",
            " block2a_dwconv (DepthwiseConv2  (None, 56, 56, 96)  864         ['block2a_dwconv_pad[0][0]']     \n",
            " D)                                                                                               \n",
            "                                                                                                  \n",
            " block2a_bn (BatchNormalization  (None, 56, 56, 96)  384         ['block2a_dwconv[0][0]']         \n",
            " )                                                                                                \n",
            "                                                                                                  \n",
            " block2a_activation (Activation  (None, 56, 56, 96)  0           ['block2a_bn[0][0]']             \n",
            " )                                                                                                \n",
            "                                                                                                  \n",
            " block2a_se_squeeze (GlobalAver  (None, 96)          0           ['block2a_activation[0][0]']     \n",
            " agePooling2D)                                                                                    \n",
            "                                                                                                  \n",
            " block2a_se_reshape (Reshape)   (None, 1, 1, 96)     0           ['block2a_se_squeeze[0][0]']     \n",
            "                                                                                                  \n",
            " block2a_se_reduce (Conv2D)     (None, 1, 1, 4)      388         ['block2a_se_reshape[0][0]']     \n",
            "                                                                                                  \n",
            " block2a_se_expand (Conv2D)     (None, 1, 1, 96)     480         ['block2a_se_reduce[0][0]']      \n",
            "                                                                                                  \n",
            " block2a_se_excite (Multiply)   (None, 56, 56, 96)   0           ['block2a_activation[0][0]',     \n",
            "                                                                  'block2a_se_expand[0][0]']      \n",
            "                                                                                                  \n",
            " block2a_project_conv (Conv2D)  (None, 56, 56, 24)   2304        ['block2a_se_excite[0][0]']      \n",
            "                                                                                                  \n",
            " block2a_project_bn (BatchNorma  (None, 56, 56, 24)  96          ['block2a_project_conv[0][0]']   \n",
            " lization)                                                                                        \n",
            "                                                                                                  \n",
            " block2b_expand_conv (Conv2D)   (None, 56, 56, 144)  3456        ['block2a_project_bn[0][0]']     \n",
            "                                                                                                  \n",
            " block2b_expand_bn (BatchNormal  (None, 56, 56, 144)  576        ['block2b_expand_conv[0][0]']    \n",
            " ization)                                                                                         \n",
            "                                                                                                  \n",
            " block2b_expand_activation (Act  (None, 56, 56, 144)  0          ['block2b_expand_bn[0][0]']      \n",
            " ivation)                                                                                         \n",
            "                                                                                                  \n",
            " block2b_dwconv (DepthwiseConv2  (None, 56, 56, 144)  1296       ['block2b_expand_activation[0][0]\n",
            " D)                                                              ']                               \n",
            "                                                                                                  \n",
            " block2b_bn (BatchNormalization  (None, 56, 56, 144)  576        ['block2b_dwconv[0][0]']         \n",
            " )                                                                                                \n",
            "                                                                                                  \n",
            " block2b_activation (Activation  (None, 56, 56, 144)  0          ['block2b_bn[0][0]']             \n",
            " )                                                                                                \n",
            "                                                                                                  \n",
            " block2b_se_squeeze (GlobalAver  (None, 144)         0           ['block2b_activation[0][0]']     \n",
            " agePooling2D)                                                                                    \n",
            "                                                                                                  \n",
            " block2b_se_reshape (Reshape)   (None, 1, 1, 144)    0           ['block2b_se_squeeze[0][0]']     \n",
            "                                                                                                  \n",
            " block2b_se_reduce (Conv2D)     (None, 1, 1, 6)      870         ['block2b_se_reshape[0][0]']     \n",
            "                                                                                                  \n",
            " block2b_se_expand (Conv2D)     (None, 1, 1, 144)    1008        ['block2b_se_reduce[0][0]']      \n",
            "                                                                                                  \n",
            " block2b_se_excite (Multiply)   (None, 56, 56, 144)  0           ['block2b_activation[0][0]',     \n",
            "                                                                  'block2b_se_expand[0][0]']      \n",
            "                                                                                                  \n",
            " block2b_project_conv (Conv2D)  (None, 56, 56, 24)   3456        ['block2b_se_excite[0][0]']      \n",
            "                                                                                                  \n",
            " block2b_project_bn (BatchNorma  (None, 56, 56, 24)  96          ['block2b_project_conv[0][0]']   \n",
            " lization)                                                                                        \n",
            "                                                                                                  \n",
            " block2b_drop (Dropout)         (None, 56, 56, 24)   0           ['block2b_project_bn[0][0]']     \n",
            "                                                                                                  \n",
            " block2b_add (Add)              (None, 56, 56, 24)   0           ['block2b_drop[0][0]',           \n",
            "                                                                  'block2a_project_bn[0][0]']     \n",
            "                                                                                                  \n",
            " block3a_expand_conv (Conv2D)   (None, 56, 56, 144)  3456        ['block2b_add[0][0]']            \n",
            "                                                                                                  \n",
            " block3a_expand_bn (BatchNormal  (None, 56, 56, 144)  576        ['block3a_expand_conv[0][0]']    \n",
            " ization)                                                                                         \n",
            "                                                                                                  \n",
            " block3a_expand_activation (Act  (None, 56, 56, 144)  0          ['block3a_expand_bn[0][0]']      \n",
            " ivation)                                                                                         \n",
            "                                                                                                  \n",
            " block3a_dwconv_pad (ZeroPaddin  (None, 59, 59, 144)  0          ['block3a_expand_activation[0][0]\n",
            " g2D)                                                            ']                               \n",
            "                                                                                                  \n",
            " block3a_dwconv (DepthwiseConv2  (None, 28, 28, 144)  3600       ['block3a_dwconv_pad[0][0]']     \n",
            " D)                                                                                               \n",
            "                                                                                                  \n",
            " block3a_bn (BatchNormalization  (None, 28, 28, 144)  576        ['block3a_dwconv[0][0]']         \n",
            " )                                                                                                \n",
            "                                                                                                  \n",
            " block3a_activation (Activation  (None, 28, 28, 144)  0          ['block3a_bn[0][0]']             \n",
            " )                                                                                                \n",
            "                                                                                                  \n",
            " block3a_se_squeeze (GlobalAver  (None, 144)         0           ['block3a_activation[0][0]']     \n",
            " agePooling2D)                                                                                    \n",
            "                                                                                                  \n",
            " block3a_se_reshape (Reshape)   (None, 1, 1, 144)    0           ['block3a_se_squeeze[0][0]']     \n",
            "                                                                                                  \n",
            " block3a_se_reduce (Conv2D)     (None, 1, 1, 6)      870         ['block3a_se_reshape[0][0]']     \n",
            "                                                                                                  \n",
            " block3a_se_expand (Conv2D)     (None, 1, 1, 144)    1008        ['block3a_se_reduce[0][0]']      \n",
            "                                                                                                  \n",
            " block3a_se_excite (Multiply)   (None, 28, 28, 144)  0           ['block3a_activation[0][0]',     \n",
            "                                                                  'block3a_se_expand[0][0]']      \n",
            "                                                                                                  \n",
            " block3a_project_conv (Conv2D)  (None, 28, 28, 40)   5760        ['block3a_se_excite[0][0]']      \n",
            "                                                                                                  \n",
            " block3a_project_bn (BatchNorma  (None, 28, 28, 40)  160         ['block3a_project_conv[0][0]']   \n",
            " lization)                                                                                        \n",
            "                                                                                                  \n",
            " block3b_expand_conv (Conv2D)   (None, 28, 28, 240)  9600        ['block3a_project_bn[0][0]']     \n",
            "                                                                                                  \n",
            " block3b_expand_bn (BatchNormal  (None, 28, 28, 240)  960        ['block3b_expand_conv[0][0]']    \n",
            " ization)                                                                                         \n",
            "                                                                                                  \n",
            " block3b_expand_activation (Act  (None, 28, 28, 240)  0          ['block3b_expand_bn[0][0]']      \n",
            " ivation)                                                                                         \n",
            "                                                                                                  \n",
            " block3b_dwconv (DepthwiseConv2  (None, 28, 28, 240)  6000       ['block3b_expand_activation[0][0]\n",
            " D)                                                              ']                               \n",
            "                                                                                                  \n",
            " block3b_bn (BatchNormalization  (None, 28, 28, 240)  960        ['block3b_dwconv[0][0]']         \n",
            " )                                                                                                \n",
            "                                                                                                  \n",
            " block3b_activation (Activation  (None, 28, 28, 240)  0          ['block3b_bn[0][0]']             \n",
            " )                                                                                                \n",
            "                                                                                                  \n",
            " block3b_se_squeeze (GlobalAver  (None, 240)         0           ['block3b_activation[0][0]']     \n",
            " agePooling2D)                                                                                    \n",
            "                                                                                                  \n",
            " block3b_se_reshape (Reshape)   (None, 1, 1, 240)    0           ['block3b_se_squeeze[0][0]']     \n",
            "                                                                                                  \n",
            " block3b_se_reduce (Conv2D)     (None, 1, 1, 10)     2410        ['block3b_se_reshape[0][0]']     \n",
            "                                                                                                  \n",
            " block3b_se_expand (Conv2D)     (None, 1, 1, 240)    2640        ['block3b_se_reduce[0][0]']      \n",
            "                                                                                                  \n",
            " block3b_se_excite (Multiply)   (None, 28, 28, 240)  0           ['block3b_activation[0][0]',     \n",
            "                                                                  'block3b_se_expand[0][0]']      \n",
            "                                                                                                  \n",
            " block3b_project_conv (Conv2D)  (None, 28, 28, 40)   9600        ['block3b_se_excite[0][0]']      \n",
            "                                                                                                  \n",
            " block3b_project_bn (BatchNorma  (None, 28, 28, 40)  160         ['block3b_project_conv[0][0]']   \n",
            " lization)                                                                                        \n",
            "                                                                                                  \n",
            " block3b_drop (Dropout)         (None, 28, 28, 40)   0           ['block3b_project_bn[0][0]']     \n",
            "                                                                                                  \n",
            " block3b_add (Add)              (None, 28, 28, 40)   0           ['block3b_drop[0][0]',           \n",
            "                                                                  'block3a_project_bn[0][0]']     \n",
            "                                                                                                  \n",
            " block4a_expand_conv (Conv2D)   (None, 28, 28, 240)  9600        ['block3b_add[0][0]']            \n",
            "                                                                                                  \n",
            " block4a_expand_bn (BatchNormal  (None, 28, 28, 240)  960        ['block4a_expand_conv[0][0]']    \n",
            " ization)                                                                                         \n",
            "                                                                                                  \n",
            " block4a_expand_activation (Act  (None, 28, 28, 240)  0          ['block4a_expand_bn[0][0]']      \n",
            " ivation)                                                                                         \n",
            "                                                                                                  \n",
            " block4a_dwconv_pad (ZeroPaddin  (None, 29, 29, 240)  0          ['block4a_expand_activation[0][0]\n",
            " g2D)                                                            ']                               \n",
            "                                                                                                  \n",
            " block4a_dwconv (DepthwiseConv2  (None, 14, 14, 240)  2160       ['block4a_dwconv_pad[0][0]']     \n",
            " D)                                                                                               \n",
            "                                                                                                  \n",
            " block4a_bn (BatchNormalization  (None, 14, 14, 240)  960        ['block4a_dwconv[0][0]']         \n",
            " )                                                                                                \n",
            "                                                                                                  \n",
            " block4a_activation (Activation  (None, 14, 14, 240)  0          ['block4a_bn[0][0]']             \n",
            " )                                                                                                \n",
            "                                                                                                  \n",
            " block4a_se_squeeze (GlobalAver  (None, 240)         0           ['block4a_activation[0][0]']     \n",
            " agePooling2D)                                                                                    \n",
            "                                                                                                  \n",
            " block4a_se_reshape (Reshape)   (None, 1, 1, 240)    0           ['block4a_se_squeeze[0][0]']     \n",
            "                                                                                                  \n",
            " block4a_se_reduce (Conv2D)     (None, 1, 1, 10)     2410        ['block4a_se_reshape[0][0]']     \n",
            "                                                                                                  \n",
            " block4a_se_expand (Conv2D)     (None, 1, 1, 240)    2640        ['block4a_se_reduce[0][0]']      \n",
            "                                                                                                  \n",
            " block4a_se_excite (Multiply)   (None, 14, 14, 240)  0           ['block4a_activation[0][0]',     \n",
            "                                                                  'block4a_se_expand[0][0]']      \n",
            "                                                                                                  \n",
            " block4a_project_conv (Conv2D)  (None, 14, 14, 80)   19200       ['block4a_se_excite[0][0]']      \n",
            "                                                                                                  \n",
            " block4a_project_bn (BatchNorma  (None, 14, 14, 80)  320         ['block4a_project_conv[0][0]']   \n",
            " lization)                                                                                        \n",
            "                                                                                                  \n",
            " block4b_expand_conv (Conv2D)   (None, 14, 14, 480)  38400       ['block4a_project_bn[0][0]']     \n",
            "                                                                                                  \n",
            " block4b_expand_bn (BatchNormal  (None, 14, 14, 480)  1920       ['block4b_expand_conv[0][0]']    \n",
            " ization)                                                                                         \n",
            "                                                                                                  \n",
            " block4b_expand_activation (Act  (None, 14, 14, 480)  0          ['block4b_expand_bn[0][0]']      \n",
            " ivation)                                                                                         \n",
            "                                                                                                  \n",
            " block4b_dwconv (DepthwiseConv2  (None, 14, 14, 480)  4320       ['block4b_expand_activation[0][0]\n",
            " D)                                                              ']                               \n",
            "                                                                                                  \n",
            " block4b_bn (BatchNormalization  (None, 14, 14, 480)  1920       ['block4b_dwconv[0][0]']         \n",
            " )                                                                                                \n",
            "                                                                                                  \n",
            " block4b_activation (Activation  (None, 14, 14, 480)  0          ['block4b_bn[0][0]']             \n",
            " )                                                                                                \n",
            "                                                                                                  \n",
            " block4b_se_squeeze (GlobalAver  (None, 480)         0           ['block4b_activation[0][0]']     \n",
            " agePooling2D)                                                                                    \n",
            "                                                                                                  \n",
            " block4b_se_reshape (Reshape)   (None, 1, 1, 480)    0           ['block4b_se_squeeze[0][0]']     \n",
            "                                                                                                  \n",
            " block4b_se_reduce (Conv2D)     (None, 1, 1, 20)     9620        ['block4b_se_reshape[0][0]']     \n",
            "                                                                                                  \n",
            " block4b_se_expand (Conv2D)     (None, 1, 1, 480)    10080       ['block4b_se_reduce[0][0]']      \n",
            "                                                                                                  \n",
            " block4b_se_excite (Multiply)   (None, 14, 14, 480)  0           ['block4b_activation[0][0]',     \n",
            "                                                                  'block4b_se_expand[0][0]']      \n",
            "                                                                                                  \n",
            " block4b_project_conv (Conv2D)  (None, 14, 14, 80)   38400       ['block4b_se_excite[0][0]']      \n",
            "                                                                                                  \n",
            " block4b_project_bn (BatchNorma  (None, 14, 14, 80)  320         ['block4b_project_conv[0][0]']   \n",
            " lization)                                                                                        \n",
            "                                                                                                  \n",
            " block4b_drop (Dropout)         (None, 14, 14, 80)   0           ['block4b_project_bn[0][0]']     \n",
            "                                                                                                  \n",
            " block4b_add (Add)              (None, 14, 14, 80)   0           ['block4b_drop[0][0]',           \n",
            "                                                                  'block4a_project_bn[0][0]']     \n",
            "                                                                                                  \n",
            " block4c_expand_conv (Conv2D)   (None, 14, 14, 480)  38400       ['block4b_add[0][0]']            \n",
            "                                                                                                  \n",
            " block4c_expand_bn (BatchNormal  (None, 14, 14, 480)  1920       ['block4c_expand_conv[0][0]']    \n",
            " ization)                                                                                         \n",
            "                                                                                                  \n",
            " block4c_expand_activation (Act  (None, 14, 14, 480)  0          ['block4c_expand_bn[0][0]']      \n",
            " ivation)                                                                                         \n",
            "                                                                                                  \n",
            " block4c_dwconv (DepthwiseConv2  (None, 14, 14, 480)  4320       ['block4c_expand_activation[0][0]\n",
            " D)                                                              ']                               \n",
            "                                                                                                  \n",
            " block4c_bn (BatchNormalization  (None, 14, 14, 480)  1920       ['block4c_dwconv[0][0]']         \n",
            " )                                                                                                \n",
            "                                                                                                  \n",
            " block4c_activation (Activation  (None, 14, 14, 480)  0          ['block4c_bn[0][0]']             \n",
            " )                                                                                                \n",
            "                                                                                                  \n",
            " block4c_se_squeeze (GlobalAver  (None, 480)         0           ['block4c_activation[0][0]']     \n",
            " agePooling2D)                                                                                    \n",
            "                                                                                                  \n",
            " block4c_se_reshape (Reshape)   (None, 1, 1, 480)    0           ['block4c_se_squeeze[0][0]']     \n",
            "                                                                                                  \n",
            " block4c_se_reduce (Conv2D)     (None, 1, 1, 20)     9620        ['block4c_se_reshape[0][0]']     \n",
            "                                                                                                  \n",
            " block4c_se_expand (Conv2D)     (None, 1, 1, 480)    10080       ['block4c_se_reduce[0][0]']      \n",
            "                                                                                                  \n",
            " block4c_se_excite (Multiply)   (None, 14, 14, 480)  0           ['block4c_activation[0][0]',     \n",
            "                                                                  'block4c_se_expand[0][0]']      \n",
            "                                                                                                  \n",
            " block4c_project_conv (Conv2D)  (None, 14, 14, 80)   38400       ['block4c_se_excite[0][0]']      \n",
            "                                                                                                  \n",
            " block4c_project_bn (BatchNorma  (None, 14, 14, 80)  320         ['block4c_project_conv[0][0]']   \n",
            " lization)                                                                                        \n",
            "                                                                                                  \n",
            " block4c_drop (Dropout)         (None, 14, 14, 80)   0           ['block4c_project_bn[0][0]']     \n",
            "                                                                                                  \n",
            " block4c_add (Add)              (None, 14, 14, 80)   0           ['block4c_drop[0][0]',           \n",
            "                                                                  'block4b_add[0][0]']            \n",
            "                                                                                                  \n",
            " block5a_expand_conv (Conv2D)   (None, 14, 14, 480)  38400       ['block4c_add[0][0]']            \n",
            "                                                                                                  \n",
            " block5a_expand_bn (BatchNormal  (None, 14, 14, 480)  1920       ['block5a_expand_conv[0][0]']    \n",
            " ization)                                                                                         \n",
            "                                                                                                  \n",
            " block5a_expand_activation (Act  (None, 14, 14, 480)  0          ['block5a_expand_bn[0][0]']      \n",
            " ivation)                                                                                         \n",
            "                                                                                                  \n",
            " block5a_dwconv (DepthwiseConv2  (None, 14, 14, 480)  12000      ['block5a_expand_activation[0][0]\n",
            " D)                                                              ']                               \n",
            "                                                                                                  \n",
            " block5a_bn (BatchNormalization  (None, 14, 14, 480)  1920       ['block5a_dwconv[0][0]']         \n",
            " )                                                                                                \n",
            "                                                                                                  \n",
            " block5a_activation (Activation  (None, 14, 14, 480)  0          ['block5a_bn[0][0]']             \n",
            " )                                                                                                \n",
            "                                                                                                  \n",
            " block5a_se_squeeze (GlobalAver  (None, 480)         0           ['block5a_activation[0][0]']     \n",
            " agePooling2D)                                                                                    \n",
            "                                                                                                  \n",
            " block5a_se_reshape (Reshape)   (None, 1, 1, 480)    0           ['block5a_se_squeeze[0][0]']     \n",
            "                                                                                                  \n",
            " block5a_se_reduce (Conv2D)     (None, 1, 1, 20)     9620        ['block5a_se_reshape[0][0]']     \n",
            "                                                                                                  \n",
            " block5a_se_expand (Conv2D)     (None, 1, 1, 480)    10080       ['block5a_se_reduce[0][0]']      \n",
            "                                                                                                  \n",
            " block5a_se_excite (Multiply)   (None, 14, 14, 480)  0           ['block5a_activation[0][0]',     \n",
            "                                                                  'block5a_se_expand[0][0]']      \n",
            "                                                                                                  \n",
            " block5a_project_conv (Conv2D)  (None, 14, 14, 112)  53760       ['block5a_se_excite[0][0]']      \n",
            "                                                                                                  \n",
            " block5a_project_bn (BatchNorma  (None, 14, 14, 112)  448        ['block5a_project_conv[0][0]']   \n",
            " lization)                                                                                        \n",
            "                                                                                                  \n",
            " block5b_expand_conv (Conv2D)   (None, 14, 14, 672)  75264       ['block5a_project_bn[0][0]']     \n",
            "                                                                                                  \n",
            " block5b_expand_bn (BatchNormal  (None, 14, 14, 672)  2688       ['block5b_expand_conv[0][0]']    \n",
            " ization)                                                                                         \n",
            "                                                                                                  \n",
            " block5b_expand_activation (Act  (None, 14, 14, 672)  0          ['block5b_expand_bn[0][0]']      \n",
            " ivation)                                                                                         \n",
            "                                                                                                  \n",
            " block5b_dwconv (DepthwiseConv2  (None, 14, 14, 672)  16800      ['block5b_expand_activation[0][0]\n",
            " D)                                                              ']                               \n",
            "                                                                                                  \n",
            " block5b_bn (BatchNormalization  (None, 14, 14, 672)  2688       ['block5b_dwconv[0][0]']         \n",
            " )                                                                                                \n",
            "                                                                                                  \n",
            " block5b_activation (Activation  (None, 14, 14, 672)  0          ['block5b_bn[0][0]']             \n",
            " )                                                                                                \n",
            "                                                                                                  \n",
            " block5b_se_squeeze (GlobalAver  (None, 672)         0           ['block5b_activation[0][0]']     \n",
            " agePooling2D)                                                                                    \n",
            "                                                                                                  \n",
            " block5b_se_reshape (Reshape)   (None, 1, 1, 672)    0           ['block5b_se_squeeze[0][0]']     \n",
            "                                                                                                  \n",
            " block5b_se_reduce (Conv2D)     (None, 1, 1, 28)     18844       ['block5b_se_reshape[0][0]']     \n",
            "                                                                                                  \n",
            " block5b_se_expand (Conv2D)     (None, 1, 1, 672)    19488       ['block5b_se_reduce[0][0]']      \n",
            "                                                                                                  \n",
            " block5b_se_excite (Multiply)   (None, 14, 14, 672)  0           ['block5b_activation[0][0]',     \n",
            "                                                                  'block5b_se_expand[0][0]']      \n",
            "                                                                                                  \n",
            " block5b_project_conv (Conv2D)  (None, 14, 14, 112)  75264       ['block5b_se_excite[0][0]']      \n",
            "                                                                                                  \n",
            " block5b_project_bn (BatchNorma  (None, 14, 14, 112)  448        ['block5b_project_conv[0][0]']   \n",
            " lization)                                                                                        \n",
            "                                                                                                  \n",
            " block5b_drop (Dropout)         (None, 14, 14, 112)  0           ['block5b_project_bn[0][0]']     \n",
            "                                                                                                  \n",
            " block5b_add (Add)              (None, 14, 14, 112)  0           ['block5b_drop[0][0]',           \n",
            "                                                                  'block5a_project_bn[0][0]']     \n",
            "                                                                                                  \n",
            " block5c_expand_conv (Conv2D)   (None, 14, 14, 672)  75264       ['block5b_add[0][0]']            \n",
            "                                                                                                  \n",
            " block5c_expand_bn (BatchNormal  (None, 14, 14, 672)  2688       ['block5c_expand_conv[0][0]']    \n",
            " ization)                                                                                         \n",
            "                                                                                                  \n",
            " block5c_expand_activation (Act  (None, 14, 14, 672)  0          ['block5c_expand_bn[0][0]']      \n",
            " ivation)                                                                                         \n",
            "                                                                                                  \n",
            " block5c_dwconv (DepthwiseConv2  (None, 14, 14, 672)  16800      ['block5c_expand_activation[0][0]\n",
            " D)                                                              ']                               \n",
            "                                                                                                  \n",
            " block5c_bn (BatchNormalization  (None, 14, 14, 672)  2688       ['block5c_dwconv[0][0]']         \n",
            " )                                                                                                \n",
            "                                                                                                  \n",
            " block5c_activation (Activation  (None, 14, 14, 672)  0          ['block5c_bn[0][0]']             \n",
            " )                                                                                                \n",
            "                                                                                                  \n",
            " block5c_se_squeeze (GlobalAver  (None, 672)         0           ['block5c_activation[0][0]']     \n",
            " agePooling2D)                                                                                    \n",
            "                                                                                                  \n",
            " block5c_se_reshape (Reshape)   (None, 1, 1, 672)    0           ['block5c_se_squeeze[0][0]']     \n",
            "                                                                                                  \n",
            " block5c_se_reduce (Conv2D)     (None, 1, 1, 28)     18844       ['block5c_se_reshape[0][0]']     \n",
            "                                                                                                  \n",
            " block5c_se_expand (Conv2D)     (None, 1, 1, 672)    19488       ['block5c_se_reduce[0][0]']      \n",
            "                                                                                                  \n",
            " block5c_se_excite (Multiply)   (None, 14, 14, 672)  0           ['block5c_activation[0][0]',     \n",
            "                                                                  'block5c_se_expand[0][0]']      \n",
            "                                                                                                  \n",
            " block5c_project_conv (Conv2D)  (None, 14, 14, 112)  75264       ['block5c_se_excite[0][0]']      \n",
            "                                                                                                  \n",
            " block5c_project_bn (BatchNorma  (None, 14, 14, 112)  448        ['block5c_project_conv[0][0]']   \n",
            " lization)                                                                                        \n",
            "                                                                                                  \n",
            " block5c_drop (Dropout)         (None, 14, 14, 112)  0           ['block5c_project_bn[0][0]']     \n",
            "                                                                                                  \n",
            " block5c_add (Add)              (None, 14, 14, 112)  0           ['block5c_drop[0][0]',           \n",
            "                                                                  'block5b_add[0][0]']            \n",
            "                                                                                                  \n",
            " block6a_expand_conv (Conv2D)   (None, 14, 14, 672)  75264       ['block5c_add[0][0]']            \n",
            "                                                                                                  \n",
            " block6a_expand_bn (BatchNormal  (None, 14, 14, 672)  2688       ['block6a_expand_conv[0][0]']    \n",
            " ization)                                                                                         \n",
            "                                                                                                  \n",
            " block6a_expand_activation (Act  (None, 14, 14, 672)  0          ['block6a_expand_bn[0][0]']      \n",
            " ivation)                                                                                         \n",
            "                                                                                                  \n",
            " block6a_dwconv_pad (ZeroPaddin  (None, 17, 17, 672)  0          ['block6a_expand_activation[0][0]\n",
            " g2D)                                                            ']                               \n",
            "                                                                                                  \n",
            " block6a_dwconv (DepthwiseConv2  (None, 7, 7, 672)   16800       ['block6a_dwconv_pad[0][0]']     \n",
            " D)                                                                                               \n",
            "                                                                                                  \n",
            " block6a_bn (BatchNormalization  (None, 7, 7, 672)   2688        ['block6a_dwconv[0][0]']         \n",
            " )                                                                                                \n",
            "                                                                                                  \n",
            " block6a_activation (Activation  (None, 7, 7, 672)   0           ['block6a_bn[0][0]']             \n",
            " )                                                                                                \n",
            "                                                                                                  \n",
            " block6a_se_squeeze (GlobalAver  (None, 672)         0           ['block6a_activation[0][0]']     \n",
            " agePooling2D)                                                                                    \n",
            "                                                                                                  \n",
            " block6a_se_reshape (Reshape)   (None, 1, 1, 672)    0           ['block6a_se_squeeze[0][0]']     \n",
            "                                                                                                  \n",
            " block6a_se_reduce (Conv2D)     (None, 1, 1, 28)     18844       ['block6a_se_reshape[0][0]']     \n",
            "                                                                                                  \n",
            " block6a_se_expand (Conv2D)     (None, 1, 1, 672)    19488       ['block6a_se_reduce[0][0]']      \n",
            "                                                                                                  \n",
            " block6a_se_excite (Multiply)   (None, 7, 7, 672)    0           ['block6a_activation[0][0]',     \n",
            "                                                                  'block6a_se_expand[0][0]']      \n",
            "                                                                                                  \n",
            " block6a_project_conv (Conv2D)  (None, 7, 7, 192)    129024      ['block6a_se_excite[0][0]']      \n",
            "                                                                                                  \n",
            " block6a_project_bn (BatchNorma  (None, 7, 7, 192)   768         ['block6a_project_conv[0][0]']   \n",
            " lization)                                                                                        \n",
            "                                                                                                  \n",
            " block6b_expand_conv (Conv2D)   (None, 7, 7, 1152)   221184      ['block6a_project_bn[0][0]']     \n",
            "                                                                                                  \n",
            " block6b_expand_bn (BatchNormal  (None, 7, 7, 1152)  4608        ['block6b_expand_conv[0][0]']    \n",
            " ization)                                                                                         \n",
            "                                                                                                  \n",
            " block6b_expand_activation (Act  (None, 7, 7, 1152)  0           ['block6b_expand_bn[0][0]']      \n",
            " ivation)                                                                                         \n",
            "                                                                                                  \n",
            " block6b_dwconv (DepthwiseConv2  (None, 7, 7, 1152)  28800       ['block6b_expand_activation[0][0]\n",
            " D)                                                              ']                               \n",
            "                                                                                                  \n",
            " block6b_bn (BatchNormalization  (None, 7, 7, 1152)  4608        ['block6b_dwconv[0][0]']         \n",
            " )                                                                                                \n",
            "                                                                                                  \n",
            " block6b_activation (Activation  (None, 7, 7, 1152)  0           ['block6b_bn[0][0]']             \n",
            " )                                                                                                \n",
            "                                                                                                  \n",
            " block6b_se_squeeze (GlobalAver  (None, 1152)        0           ['block6b_activation[0][0]']     \n",
            " agePooling2D)                                                                                    \n",
            "                                                                                                  \n",
            " block6b_se_reshape (Reshape)   (None, 1, 1, 1152)   0           ['block6b_se_squeeze[0][0]']     \n",
            "                                                                                                  \n",
            " block6b_se_reduce (Conv2D)     (None, 1, 1, 48)     55344       ['block6b_se_reshape[0][0]']     \n",
            "                                                                                                  \n",
            " block6b_se_expand (Conv2D)     (None, 1, 1, 1152)   56448       ['block6b_se_reduce[0][0]']      \n",
            "                                                                                                  \n",
            " block6b_se_excite (Multiply)   (None, 7, 7, 1152)   0           ['block6b_activation[0][0]',     \n",
            "                                                                  'block6b_se_expand[0][0]']      \n",
            "                                                                                                  \n",
            " block6b_project_conv (Conv2D)  (None, 7, 7, 192)    221184      ['block6b_se_excite[0][0]']      \n",
            "                                                                                                  \n",
            " block6b_project_bn (BatchNorma  (None, 7, 7, 192)   768         ['block6b_project_conv[0][0]']   \n",
            " lization)                                                                                        \n",
            "                                                                                                  \n",
            " block6b_drop (Dropout)         (None, 7, 7, 192)    0           ['block6b_project_bn[0][0]']     \n",
            "                                                                                                  \n",
            " block6b_add (Add)              (None, 7, 7, 192)    0           ['block6b_drop[0][0]',           \n",
            "                                                                  'block6a_project_bn[0][0]']     \n",
            "                                                                                                  \n",
            " block6c_expand_conv (Conv2D)   (None, 7, 7, 1152)   221184      ['block6b_add[0][0]']            \n",
            "                                                                                                  \n",
            " block6c_expand_bn (BatchNormal  (None, 7, 7, 1152)  4608        ['block6c_expand_conv[0][0]']    \n",
            " ization)                                                                                         \n",
            "                                                                                                  \n",
            " block6c_expand_activation (Act  (None, 7, 7, 1152)  0           ['block6c_expand_bn[0][0]']      \n",
            " ivation)                                                                                         \n",
            "                                                                                                  \n",
            " block6c_dwconv (DepthwiseConv2  (None, 7, 7, 1152)  28800       ['block6c_expand_activation[0][0]\n",
            " D)                                                              ']                               \n",
            "                                                                                                  \n",
            " block6c_bn (BatchNormalization  (None, 7, 7, 1152)  4608        ['block6c_dwconv[0][0]']         \n",
            " )                                                                                                \n",
            "                                                                                                  \n",
            " block6c_activation (Activation  (None, 7, 7, 1152)  0           ['block6c_bn[0][0]']             \n",
            " )                                                                                                \n",
            "                                                                                                  \n",
            " block6c_se_squeeze (GlobalAver  (None, 1152)        0           ['block6c_activation[0][0]']     \n",
            " agePooling2D)                                                                                    \n",
            "                                                                                                  \n",
            " block6c_se_reshape (Reshape)   (None, 1, 1, 1152)   0           ['block6c_se_squeeze[0][0]']     \n",
            "                                                                                                  \n",
            " block6c_se_reduce (Conv2D)     (None, 1, 1, 48)     55344       ['block6c_se_reshape[0][0]']     \n",
            "                                                                                                  \n",
            " block6c_se_expand (Conv2D)     (None, 1, 1, 1152)   56448       ['block6c_se_reduce[0][0]']      \n",
            "                                                                                                  \n",
            " block6c_se_excite (Multiply)   (None, 7, 7, 1152)   0           ['block6c_activation[0][0]',     \n",
            "                                                                  'block6c_se_expand[0][0]']      \n",
            "                                                                                                  \n",
            " block6c_project_conv (Conv2D)  (None, 7, 7, 192)    221184      ['block6c_se_excite[0][0]']      \n",
            "                                                                                                  \n",
            " block6c_project_bn (BatchNorma  (None, 7, 7, 192)   768         ['block6c_project_conv[0][0]']   \n",
            " lization)                                                                                        \n",
            "                                                                                                  \n",
            " block6c_drop (Dropout)         (None, 7, 7, 192)    0           ['block6c_project_bn[0][0]']     \n",
            "                                                                                                  \n",
            " block6c_add (Add)              (None, 7, 7, 192)    0           ['block6c_drop[0][0]',           \n",
            "                                                                  'block6b_add[0][0]']            \n",
            "                                                                                                  \n",
            " block6d_expand_conv (Conv2D)   (None, 7, 7, 1152)   221184      ['block6c_add[0][0]']            \n",
            "                                                                                                  \n",
            " block6d_expand_bn (BatchNormal  (None, 7, 7, 1152)  4608        ['block6d_expand_conv[0][0]']    \n",
            " ization)                                                                                         \n",
            "                                                                                                  \n",
            " block6d_expand_activation (Act  (None, 7, 7, 1152)  0           ['block6d_expand_bn[0][0]']      \n",
            " ivation)                                                                                         \n",
            "                                                                                                  \n",
            " block6d_dwconv (DepthwiseConv2  (None, 7, 7, 1152)  28800       ['block6d_expand_activation[0][0]\n",
            " D)                                                              ']                               \n",
            "                                                                                                  \n",
            " block6d_bn (BatchNormalization  (None, 7, 7, 1152)  4608        ['block6d_dwconv[0][0]']         \n",
            " )                                                                                                \n",
            "                                                                                                  \n",
            " block6d_activation (Activation  (None, 7, 7, 1152)  0           ['block6d_bn[0][0]']             \n",
            " )                                                                                                \n",
            "                                                                                                  \n",
            " block6d_se_squeeze (GlobalAver  (None, 1152)        0           ['block6d_activation[0][0]']     \n",
            " agePooling2D)                                                                                    \n",
            "                                                                                                  \n",
            " block6d_se_reshape (Reshape)   (None, 1, 1, 1152)   0           ['block6d_se_squeeze[0][0]']     \n",
            "                                                                                                  \n",
            " block6d_se_reduce (Conv2D)     (None, 1, 1, 48)     55344       ['block6d_se_reshape[0][0]']     \n",
            "                                                                                                  \n",
            " block6d_se_expand (Conv2D)     (None, 1, 1, 1152)   56448       ['block6d_se_reduce[0][0]']      \n",
            "                                                                                                  \n",
            " block6d_se_excite (Multiply)   (None, 7, 7, 1152)   0           ['block6d_activation[0][0]',     \n",
            "                                                                  'block6d_se_expand[0][0]']      \n",
            "                                                                                                  \n",
            " block6d_project_conv (Conv2D)  (None, 7, 7, 192)    221184      ['block6d_se_excite[0][0]']      \n",
            "                                                                                                  \n",
            " block6d_project_bn (BatchNorma  (None, 7, 7, 192)   768         ['block6d_project_conv[0][0]']   \n",
            " lization)                                                                                        \n",
            "                                                                                                  \n",
            " block6d_drop (Dropout)         (None, 7, 7, 192)    0           ['block6d_project_bn[0][0]']     \n",
            "                                                                                                  \n",
            " block6d_add (Add)              (None, 7, 7, 192)    0           ['block6d_drop[0][0]',           \n",
            "                                                                  'block6c_add[0][0]']            \n",
            "                                                                                                  \n",
            " block7a_expand_conv (Conv2D)   (None, 7, 7, 1152)   221184      ['block6d_add[0][0]']            \n",
            "                                                                                                  \n",
            " block7a_expand_bn (BatchNormal  (None, 7, 7, 1152)  4608        ['block7a_expand_conv[0][0]']    \n",
            " ization)                                                                                         \n",
            "                                                                                                  \n",
            " block7a_expand_activation (Act  (None, 7, 7, 1152)  0           ['block7a_expand_bn[0][0]']      \n",
            " ivation)                                                                                         \n",
            "                                                                                                  \n",
            " block7a_dwconv (DepthwiseConv2  (None, 7, 7, 1152)  10368       ['block7a_expand_activation[0][0]\n",
            " D)                                                              ']                               \n",
            "                                                                                                  \n",
            " block7a_bn (BatchNormalization  (None, 7, 7, 1152)  4608        ['block7a_dwconv[0][0]']         \n",
            " )                                                                                                \n",
            "                                                                                                  \n",
            " block7a_activation (Activation  (None, 7, 7, 1152)  0           ['block7a_bn[0][0]']             \n",
            " )                                                                                                \n",
            "                                                                                                  \n",
            " block7a_se_squeeze (GlobalAver  (None, 1152)        0           ['block7a_activation[0][0]']     \n",
            " agePooling2D)                                                                                    \n",
            "                                                                                                  \n",
            " block7a_se_reshape (Reshape)   (None, 1, 1, 1152)   0           ['block7a_se_squeeze[0][0]']     \n",
            "                                                                                                  \n",
            " block7a_se_reduce (Conv2D)     (None, 1, 1, 48)     55344       ['block7a_se_reshape[0][0]']     \n",
            "                                                                                                  \n",
            " block7a_se_expand (Conv2D)     (None, 1, 1, 1152)   56448       ['block7a_se_reduce[0][0]']      \n",
            "                                                                                                  \n",
            " block7a_se_excite (Multiply)   (None, 7, 7, 1152)   0           ['block7a_activation[0][0]',     \n",
            "                                                                  'block7a_se_expand[0][0]']      \n",
            "                                                                                                  \n",
            " block7a_project_conv (Conv2D)  (None, 7, 7, 320)    368640      ['block7a_se_excite[0][0]']      \n",
            "                                                                                                  \n",
            " block7a_project_bn (BatchNorma  (None, 7, 7, 320)   1280        ['block7a_project_conv[0][0]']   \n",
            " lization)                                                                                        \n",
            "                                                                                                  \n",
            " top_conv (Conv2D)              (None, 7, 7, 1280)   409600      ['block7a_project_bn[0][0]']     \n",
            "                                                                                                  \n",
            " top_bn (BatchNormalization)    (None, 7, 7, 1280)   5120        ['top_conv[0][0]']               \n",
            "                                                                                                  \n",
            " top_activation (Activation)    (None, 7, 7, 1280)   0           ['top_bn[0][0]']                 \n",
            "                                                                                                  \n",
            " global_average_pooling2d_2 (Gl  (None, 1280)        0           ['top_activation[0][0]']         \n",
            " obalAveragePooling2D)                                                                            \n",
            "                                                                                                  \n",
            " top_dropout (Dropout)          (None, 1280)         0           ['global_average_pooling2d_2[0][0\n",
            "                                                                 ]']                              \n",
            "                                                                                                  \n",
            " dense_2 (Dense)                (None, 4)            5124        ['top_dropout[0][0]']            \n",
            "                                                                                                  \n",
            "==================================================================================================\n",
            "Total params: 4,054,695\n",
            "Trainable params: 5,124\n",
            "Non-trainable params: 4,049,571\n",
            "__________________________________________________________________________________________________\n",
            "None\n"
          ]
        }
      ]
    },
    {
      "cell_type": "markdown",
      "source": [
        "Now we define our initial learning rate for the training and define our model:"
      ],
      "metadata": {
        "id": "dB-fqDRTj8im"
      }
    },
    {
      "cell_type": "code",
      "source": [
        "INITIAL_LEARNING_RATE = 1e-3\n",
        "model.compile(loss='categorical_crossentropy', optimizer=Adam(lr=INITIAL_LEARNING_RATE), metrics=['accuracy'])"
      ],
      "metadata": {
        "colab": {
          "base_uri": "https://localhost:8080/"
        },
        "id": "6ruQAAqELyzp",
        "outputId": "26816d4f-8ffb-41f5-a5a6-ff35a452b2d2"
      },
      "execution_count": null,
      "outputs": [
        {
          "output_type": "stream",
          "name": "stderr",
          "text": [
            "/usr/local/lib/python3.7/dist-packages/keras/optimizer_v2/adam.py:105: UserWarning: The `lr` argument is deprecated, use `learning_rate` instead.\n",
            "  super(Adam, self).__init__(name, **kwargs)\n"
          ]
        }
      ]
    },
    {
      "cell_type": "markdown",
      "source": [
        "----------------------------------------- THIS SECTION IS FOR TRAINING THE EFFICIENTNET (SKIP IF YOU ALREADY TRAINED WEIGHTS) ------------------------------"
      ],
      "metadata": {
        "id": "NVFOvzo8SA9s"
      }
    },
    {
      "cell_type": "markdown",
      "source": [
        "In this section we train our Network with the methods learned in the lecture:"
      ],
      "metadata": {
        "id": "l7pXHufxkNTT"
      }
    },
    {
      "cell_type": "code",
      "source": [
        "#@title `plot_history()` definition\n",
        "from matplotlib import pyplot as plt\n",
        "\n",
        "def plot_history(history):\n",
        "  fig, (ax1, ax2) = plt.subplots(2,1, sharex=True, dpi=150)\n",
        "  ax1.plot(history.history['loss'], label='training')\n",
        "  ax1.plot(history.history['val_loss'], label='validation')\n",
        "  ax1.set_ylabel('Cross-Entropy Loss')\n",
        "  ax1.set_yscale('log')\n",
        "  if history.history.__contains__('lr'):\n",
        "    ax1b = ax1.twinx()\n",
        "    ax1b.plot(history.history['lr'], 'g-', linewidth=1)\n",
        "    ax1b.set_yscale('log')\n",
        "    ax1b.set_ylabel('Learning Rate', color='g')\n",
        "\n",
        "  ax2.plot(history.history['accuracy'], label='training')\n",
        "  ax2.plot(history.history['val_accuracy'], label='validation')\n",
        "  ax2.set_ylabel('Accuracy')\n",
        "  ax2.set_xlabel('Epochs')\n",
        "  ax2.legend()\n",
        "  plt.show() "
      ],
      "metadata": {
        "id": "Vc53PelxO3d8"
      },
      "execution_count": null,
      "outputs": []
    },
    {
      "cell_type": "code",
      "source": [
        "def lr_step_decay(epoch, lr, drop=.9, drop_epochs=10):\n",
        "  if epoch < 10:\n",
        "    return INITIAL_LEARNING_RATE\n",
        "  else:\n",
        "    return INITIAL_LEARNING_RATE * np.power(drop, np.floor(epoch/drop_epochs))\n",
        "\n",
        "LRDecayCallback = tf.keras.callbacks.LearningRateScheduler(lr_step_decay, verbose=1)\n",
        "StopCallback = tf.keras.callbacks.EarlyStopping(monitor='val_loss',patience=10,restore_best_weights=True,verbose=1)"
      ],
      "metadata": {
        "id": "BEFb3nomzxpK"
      },
      "execution_count": null,
      "outputs": []
    },
    {
      "cell_type": "code",
      "source": [
        "history = model.fit(train_generator,\n",
        "                    steps_per_epoch=train_steps,\n",
        "                    epochs=200,\n",
        "                    validation_data=validation_generator,\n",
        "                    validation_steps=val_steps,\n",
        "                    callbacks=[LRDecayCallback,StopCallback],\n",
        "                    verbose=2)\n",
        "\n",
        "plot_history(history)"
      ],
      "metadata": {
        "id": "2uqeIEIxOsfK",
        "outputId": "da28de77-84f4-4a74-931e-0b637051d50c",
        "colab": {
          "base_uri": "https://localhost:8080/",
          "height": 571
        }
      },
      "execution_count": null,
      "outputs": [
        {
          "output_type": "stream",
          "name": "stdout",
          "text": [
            "\n",
            "Epoch 00001: LearningRateScheduler setting learning rate to 0.001.\n",
            "Epoch 1/200\n",
            "125/125 - 163s - loss: 1.2599 - accuracy: 0.4316 - val_loss: 1.2405 - val_accuracy: 0.4363 - lr: 0.0010 - 163s/epoch - 1s/step\n",
            "\n",
            "Epoch 00002: LearningRateScheduler setting learning rate to 0.001.\n",
            "Epoch 2/200\n",
            "125/125 - 146s - loss: 1.2502 - accuracy: 0.4313 - val_loss: 1.2396 - val_accuracy: 0.4363 - lr: 0.0010 - 146s/epoch - 1s/step\n",
            "\n",
            "Epoch 00003: LearningRateScheduler setting learning rate to 0.001.\n",
            "Epoch 3/200\n"
          ]
        },
        {
          "output_type": "error",
          "ename": "KeyboardInterrupt",
          "evalue": "ignored",
          "traceback": [
            "\u001b[0;31m---------------------------------------------------------------------------\u001b[0m",
            "\u001b[0;31mKeyboardInterrupt\u001b[0m                         Traceback (most recent call last)",
            "\u001b[0;32m<ipython-input-12-d340ebc062ca>\u001b[0m in \u001b[0;36m<module>\u001b[0;34m()\u001b[0m\n\u001b[1;32m      5\u001b[0m                     \u001b[0mvalidation_steps\u001b[0m\u001b[0;34m=\u001b[0m\u001b[0mval_steps\u001b[0m\u001b[0;34m,\u001b[0m\u001b[0;34m\u001b[0m\u001b[0;34m\u001b[0m\u001b[0m\n\u001b[1;32m      6\u001b[0m                     \u001b[0mcallbacks\u001b[0m\u001b[0;34m=\u001b[0m\u001b[0;34m[\u001b[0m\u001b[0mLRDecayCallback\u001b[0m\u001b[0;34m,\u001b[0m\u001b[0mStopCallback\u001b[0m\u001b[0;34m]\u001b[0m\u001b[0;34m,\u001b[0m\u001b[0;34m\u001b[0m\u001b[0;34m\u001b[0m\u001b[0m\n\u001b[0;32m----> 7\u001b[0;31m                     verbose=2)\n\u001b[0m\u001b[1;32m      8\u001b[0m \u001b[0;34m\u001b[0m\u001b[0m\n\u001b[1;32m      9\u001b[0m \u001b[0mplot_history\u001b[0m\u001b[0;34m(\u001b[0m\u001b[0mhistory\u001b[0m\u001b[0;34m)\u001b[0m\u001b[0;34m\u001b[0m\u001b[0;34m\u001b[0m\u001b[0m\n",
            "\u001b[0;32m/usr/local/lib/python3.7/dist-packages/keras/utils/traceback_utils.py\u001b[0m in \u001b[0;36merror_handler\u001b[0;34m(*args, **kwargs)\u001b[0m\n\u001b[1;32m     62\u001b[0m     \u001b[0mfiltered_tb\u001b[0m \u001b[0;34m=\u001b[0m \u001b[0;32mNone\u001b[0m\u001b[0;34m\u001b[0m\u001b[0;34m\u001b[0m\u001b[0m\n\u001b[1;32m     63\u001b[0m     \u001b[0;32mtry\u001b[0m\u001b[0;34m:\u001b[0m\u001b[0;34m\u001b[0m\u001b[0;34m\u001b[0m\u001b[0m\n\u001b[0;32m---> 64\u001b[0;31m       \u001b[0;32mreturn\u001b[0m \u001b[0mfn\u001b[0m\u001b[0;34m(\u001b[0m\u001b[0;34m*\u001b[0m\u001b[0margs\u001b[0m\u001b[0;34m,\u001b[0m \u001b[0;34m**\u001b[0m\u001b[0mkwargs\u001b[0m\u001b[0;34m)\u001b[0m\u001b[0;34m\u001b[0m\u001b[0;34m\u001b[0m\u001b[0m\n\u001b[0m\u001b[1;32m     65\u001b[0m     \u001b[0;32mexcept\u001b[0m \u001b[0mException\u001b[0m \u001b[0;32mas\u001b[0m \u001b[0me\u001b[0m\u001b[0;34m:\u001b[0m  \u001b[0;31m# pylint: disable=broad-except\u001b[0m\u001b[0;34m\u001b[0m\u001b[0;34m\u001b[0m\u001b[0m\n\u001b[1;32m     66\u001b[0m       \u001b[0mfiltered_tb\u001b[0m \u001b[0;34m=\u001b[0m \u001b[0m_process_traceback_frames\u001b[0m\u001b[0;34m(\u001b[0m\u001b[0me\u001b[0m\u001b[0;34m.\u001b[0m\u001b[0m__traceback__\u001b[0m\u001b[0;34m)\u001b[0m\u001b[0;34m\u001b[0m\u001b[0;34m\u001b[0m\u001b[0m\n",
            "\u001b[0;32m/usr/local/lib/python3.7/dist-packages/keras/engine/training.py\u001b[0m in \u001b[0;36mfit\u001b[0;34m(self, x, y, batch_size, epochs, verbose, callbacks, validation_split, validation_data, shuffle, class_weight, sample_weight, initial_epoch, steps_per_epoch, validation_steps, validation_batch_size, validation_freq, max_queue_size, workers, use_multiprocessing)\u001b[0m\n\u001b[1;32m   1214\u001b[0m                 _r=1):\n\u001b[1;32m   1215\u001b[0m               \u001b[0mcallbacks\u001b[0m\u001b[0;34m.\u001b[0m\u001b[0mon_train_batch_begin\u001b[0m\u001b[0;34m(\u001b[0m\u001b[0mstep\u001b[0m\u001b[0;34m)\u001b[0m\u001b[0;34m\u001b[0m\u001b[0;34m\u001b[0m\u001b[0m\n\u001b[0;32m-> 1216\u001b[0;31m               \u001b[0mtmp_logs\u001b[0m \u001b[0;34m=\u001b[0m \u001b[0mself\u001b[0m\u001b[0;34m.\u001b[0m\u001b[0mtrain_function\u001b[0m\u001b[0;34m(\u001b[0m\u001b[0miterator\u001b[0m\u001b[0;34m)\u001b[0m\u001b[0;34m\u001b[0m\u001b[0;34m\u001b[0m\u001b[0m\n\u001b[0m\u001b[1;32m   1217\u001b[0m               \u001b[0;32mif\u001b[0m \u001b[0mdata_handler\u001b[0m\u001b[0;34m.\u001b[0m\u001b[0mshould_sync\u001b[0m\u001b[0;34m:\u001b[0m\u001b[0;34m\u001b[0m\u001b[0;34m\u001b[0m\u001b[0m\n\u001b[1;32m   1218\u001b[0m                 \u001b[0mcontext\u001b[0m\u001b[0;34m.\u001b[0m\u001b[0masync_wait\u001b[0m\u001b[0;34m(\u001b[0m\u001b[0;34m)\u001b[0m\u001b[0;34m\u001b[0m\u001b[0;34m\u001b[0m\u001b[0m\n",
            "\u001b[0;32m/usr/local/lib/python3.7/dist-packages/tensorflow/python/util/traceback_utils.py\u001b[0m in \u001b[0;36merror_handler\u001b[0;34m(*args, **kwargs)\u001b[0m\n\u001b[1;32m    148\u001b[0m     \u001b[0mfiltered_tb\u001b[0m \u001b[0;34m=\u001b[0m \u001b[0;32mNone\u001b[0m\u001b[0;34m\u001b[0m\u001b[0;34m\u001b[0m\u001b[0m\n\u001b[1;32m    149\u001b[0m     \u001b[0;32mtry\u001b[0m\u001b[0;34m:\u001b[0m\u001b[0;34m\u001b[0m\u001b[0;34m\u001b[0m\u001b[0m\n\u001b[0;32m--> 150\u001b[0;31m       \u001b[0;32mreturn\u001b[0m \u001b[0mfn\u001b[0m\u001b[0;34m(\u001b[0m\u001b[0;34m*\u001b[0m\u001b[0margs\u001b[0m\u001b[0;34m,\u001b[0m \u001b[0;34m**\u001b[0m\u001b[0mkwargs\u001b[0m\u001b[0;34m)\u001b[0m\u001b[0;34m\u001b[0m\u001b[0;34m\u001b[0m\u001b[0m\n\u001b[0m\u001b[1;32m    151\u001b[0m     \u001b[0;32mexcept\u001b[0m \u001b[0mException\u001b[0m \u001b[0;32mas\u001b[0m \u001b[0me\u001b[0m\u001b[0;34m:\u001b[0m\u001b[0;34m\u001b[0m\u001b[0;34m\u001b[0m\u001b[0m\n\u001b[1;32m    152\u001b[0m       \u001b[0mfiltered_tb\u001b[0m \u001b[0;34m=\u001b[0m \u001b[0m_process_traceback_frames\u001b[0m\u001b[0;34m(\u001b[0m\u001b[0me\u001b[0m\u001b[0;34m.\u001b[0m\u001b[0m__traceback__\u001b[0m\u001b[0;34m)\u001b[0m\u001b[0;34m\u001b[0m\u001b[0;34m\u001b[0m\u001b[0m\n",
            "\u001b[0;32m/usr/local/lib/python3.7/dist-packages/tensorflow/python/eager/def_function.py\u001b[0m in \u001b[0;36m__call__\u001b[0;34m(self, *args, **kwds)\u001b[0m\n\u001b[1;32m    908\u001b[0m \u001b[0;34m\u001b[0m\u001b[0m\n\u001b[1;32m    909\u001b[0m       \u001b[0;32mwith\u001b[0m \u001b[0mOptionalXlaContext\u001b[0m\u001b[0;34m(\u001b[0m\u001b[0mself\u001b[0m\u001b[0;34m.\u001b[0m\u001b[0m_jit_compile\u001b[0m\u001b[0;34m)\u001b[0m\u001b[0;34m:\u001b[0m\u001b[0;34m\u001b[0m\u001b[0;34m\u001b[0m\u001b[0m\n\u001b[0;32m--> 910\u001b[0;31m         \u001b[0mresult\u001b[0m \u001b[0;34m=\u001b[0m \u001b[0mself\u001b[0m\u001b[0;34m.\u001b[0m\u001b[0m_call\u001b[0m\u001b[0;34m(\u001b[0m\u001b[0;34m*\u001b[0m\u001b[0margs\u001b[0m\u001b[0;34m,\u001b[0m \u001b[0;34m**\u001b[0m\u001b[0mkwds\u001b[0m\u001b[0;34m)\u001b[0m\u001b[0;34m\u001b[0m\u001b[0;34m\u001b[0m\u001b[0m\n\u001b[0m\u001b[1;32m    911\u001b[0m \u001b[0;34m\u001b[0m\u001b[0m\n\u001b[1;32m    912\u001b[0m       \u001b[0mnew_tracing_count\u001b[0m \u001b[0;34m=\u001b[0m \u001b[0mself\u001b[0m\u001b[0;34m.\u001b[0m\u001b[0mexperimental_get_tracing_count\u001b[0m\u001b[0;34m(\u001b[0m\u001b[0;34m)\u001b[0m\u001b[0;34m\u001b[0m\u001b[0;34m\u001b[0m\u001b[0m\n",
            "\u001b[0;32m/usr/local/lib/python3.7/dist-packages/tensorflow/python/eager/def_function.py\u001b[0m in \u001b[0;36m_call\u001b[0;34m(self, *args, **kwds)\u001b[0m\n\u001b[1;32m    940\u001b[0m       \u001b[0;31m# In this case we have created variables on the first call, so we run the\u001b[0m\u001b[0;34m\u001b[0m\u001b[0;34m\u001b[0m\u001b[0;34m\u001b[0m\u001b[0m\n\u001b[1;32m    941\u001b[0m       \u001b[0;31m# defunned version which is guaranteed to never create variables.\u001b[0m\u001b[0;34m\u001b[0m\u001b[0;34m\u001b[0m\u001b[0;34m\u001b[0m\u001b[0m\n\u001b[0;32m--> 942\u001b[0;31m       \u001b[0;32mreturn\u001b[0m \u001b[0mself\u001b[0m\u001b[0;34m.\u001b[0m\u001b[0m_stateless_fn\u001b[0m\u001b[0;34m(\u001b[0m\u001b[0;34m*\u001b[0m\u001b[0margs\u001b[0m\u001b[0;34m,\u001b[0m \u001b[0;34m**\u001b[0m\u001b[0mkwds\u001b[0m\u001b[0;34m)\u001b[0m  \u001b[0;31m# pylint: disable=not-callable\u001b[0m\u001b[0;34m\u001b[0m\u001b[0;34m\u001b[0m\u001b[0m\n\u001b[0m\u001b[1;32m    943\u001b[0m     \u001b[0;32melif\u001b[0m \u001b[0mself\u001b[0m\u001b[0;34m.\u001b[0m\u001b[0m_stateful_fn\u001b[0m \u001b[0;32mis\u001b[0m \u001b[0;32mnot\u001b[0m \u001b[0;32mNone\u001b[0m\u001b[0;34m:\u001b[0m\u001b[0;34m\u001b[0m\u001b[0;34m\u001b[0m\u001b[0m\n\u001b[1;32m    944\u001b[0m       \u001b[0;31m# Release the lock early so that multiple threads can perform the call\u001b[0m\u001b[0;34m\u001b[0m\u001b[0;34m\u001b[0m\u001b[0;34m\u001b[0m\u001b[0m\n",
            "\u001b[0;32m/usr/local/lib/python3.7/dist-packages/tensorflow/python/eager/function.py\u001b[0m in \u001b[0;36m__call__\u001b[0;34m(self, *args, **kwargs)\u001b[0m\n\u001b[1;32m   3129\u001b[0m        filtered_flat_args) = self._maybe_define_function(args, kwargs)\n\u001b[1;32m   3130\u001b[0m     return graph_function._call_flat(\n\u001b[0;32m-> 3131\u001b[0;31m         filtered_flat_args, captured_inputs=graph_function.captured_inputs)  # pylint: disable=protected-access\n\u001b[0m\u001b[1;32m   3132\u001b[0m \u001b[0;34m\u001b[0m\u001b[0m\n\u001b[1;32m   3133\u001b[0m   \u001b[0;34m@\u001b[0m\u001b[0mproperty\u001b[0m\u001b[0;34m\u001b[0m\u001b[0;34m\u001b[0m\u001b[0m\n",
            "\u001b[0;32m/usr/local/lib/python3.7/dist-packages/tensorflow/python/eager/function.py\u001b[0m in \u001b[0;36m_call_flat\u001b[0;34m(self, args, captured_inputs, cancellation_manager)\u001b[0m\n\u001b[1;32m   1958\u001b[0m       \u001b[0;31m# No tape is watching; skip to running the function.\u001b[0m\u001b[0;34m\u001b[0m\u001b[0;34m\u001b[0m\u001b[0;34m\u001b[0m\u001b[0m\n\u001b[1;32m   1959\u001b[0m       return self._build_call_outputs(self._inference_function.call(\n\u001b[0;32m-> 1960\u001b[0;31m           ctx, args, cancellation_manager=cancellation_manager))\n\u001b[0m\u001b[1;32m   1961\u001b[0m     forward_backward = self._select_forward_and_backward_functions(\n\u001b[1;32m   1962\u001b[0m         \u001b[0margs\u001b[0m\u001b[0;34m,\u001b[0m\u001b[0;34m\u001b[0m\u001b[0;34m\u001b[0m\u001b[0m\n",
            "\u001b[0;32m/usr/local/lib/python3.7/dist-packages/tensorflow/python/eager/function.py\u001b[0m in \u001b[0;36mcall\u001b[0;34m(self, ctx, args, cancellation_manager)\u001b[0m\n\u001b[1;32m    601\u001b[0m               \u001b[0minputs\u001b[0m\u001b[0;34m=\u001b[0m\u001b[0margs\u001b[0m\u001b[0;34m,\u001b[0m\u001b[0;34m\u001b[0m\u001b[0;34m\u001b[0m\u001b[0m\n\u001b[1;32m    602\u001b[0m               \u001b[0mattrs\u001b[0m\u001b[0;34m=\u001b[0m\u001b[0mattrs\u001b[0m\u001b[0;34m,\u001b[0m\u001b[0;34m\u001b[0m\u001b[0;34m\u001b[0m\u001b[0m\n\u001b[0;32m--> 603\u001b[0;31m               ctx=ctx)\n\u001b[0m\u001b[1;32m    604\u001b[0m         \u001b[0;32melse\u001b[0m\u001b[0;34m:\u001b[0m\u001b[0;34m\u001b[0m\u001b[0;34m\u001b[0m\u001b[0m\n\u001b[1;32m    605\u001b[0m           outputs = execute.execute_with_cancellation(\n",
            "\u001b[0;32m/usr/local/lib/python3.7/dist-packages/tensorflow/python/eager/execute.py\u001b[0m in \u001b[0;36mquick_execute\u001b[0;34m(op_name, num_outputs, inputs, attrs, ctx, name)\u001b[0m\n\u001b[1;32m     57\u001b[0m     \u001b[0mctx\u001b[0m\u001b[0;34m.\u001b[0m\u001b[0mensure_initialized\u001b[0m\u001b[0;34m(\u001b[0m\u001b[0;34m)\u001b[0m\u001b[0;34m\u001b[0m\u001b[0;34m\u001b[0m\u001b[0m\n\u001b[1;32m     58\u001b[0m     tensors = pywrap_tfe.TFE_Py_Execute(ctx._handle, device_name, op_name,\n\u001b[0;32m---> 59\u001b[0;31m                                         inputs, attrs, num_outputs)\n\u001b[0m\u001b[1;32m     60\u001b[0m   \u001b[0;32mexcept\u001b[0m \u001b[0mcore\u001b[0m\u001b[0;34m.\u001b[0m\u001b[0m_NotOkStatusException\u001b[0m \u001b[0;32mas\u001b[0m \u001b[0me\u001b[0m\u001b[0;34m:\u001b[0m\u001b[0;34m\u001b[0m\u001b[0;34m\u001b[0m\u001b[0m\n\u001b[1;32m     61\u001b[0m     \u001b[0;32mif\u001b[0m \u001b[0mname\u001b[0m \u001b[0;32mis\u001b[0m \u001b[0;32mnot\u001b[0m \u001b[0;32mNone\u001b[0m\u001b[0;34m:\u001b[0m\u001b[0;34m\u001b[0m\u001b[0;34m\u001b[0m\u001b[0m\n",
            "\u001b[0;31mKeyboardInterrupt\u001b[0m: "
          ]
        }
      ]
    },
    {
      "cell_type": "markdown",
      "source": [
        "The learned weights should be saved so we can use them again:"
      ],
      "metadata": {
        "id": "vpYAVo5kK_e2"
      }
    },
    {
      "cell_type": "code",
      "source": [
        "from google.colab import drive\n",
        "drive.mount('/content/gdrive')\n",
        "name_of_trained_weights = 'efficientnet_weights_pre'\n",
        "model.save_weights('/tmp/'+ name_of_trained_weights)\n",
        "\n",
        "%cp /tmp/efficientnet_weights_pre.data-00000-of-00001 /content/gdrive/My\\ Drive\n",
        "%cp /tmp/efficientnet_weights_pre.index /content/gdrive/My\\ Drive"
      ],
      "metadata": {
        "id": "Ymf8m9bTGzI_",
        "colab": {
          "base_uri": "https://localhost:8080/"
        },
        "outputId": "9a42e9e4-ceec-4777-8669-f6934d18e475"
      },
      "execution_count": null,
      "outputs": [
        {
          "output_type": "stream",
          "name": "stdout",
          "text": [
            "Mounted at /content/gdrive\n"
          ]
        }
      ]
    },
    {
      "cell_type": "markdown",
      "source": [
        "To increase the accuracy, you can also fine-tune the weights of the pre-trained network for learning more discriminant representations of your data. All you need to to is unfreeze the layers of the pre-trained network. "
      ],
      "metadata": {
        "id": "wVTN1lQTdBcA"
      }
    },
    {
      "cell_type": "code",
      "source": [
        "INITIAL_LEARNING_RATE = 3e-5\n",
        "\n",
        "pre_trained_model.trainable = True\n",
        "model.compile(loss='categorical_crossentropy', optimizer=Adam(lr=INITIAL_LEARNING_RATE), metrics=['accuracy'])\n",
        "\n",
        "print(model.summary())"
      ],
      "metadata": {
        "id": "lfh6pZcNdAPL"
      },
      "execution_count": null,
      "outputs": []
    },
    {
      "cell_type": "markdown",
      "source": [
        "Now, continue to train the model for a maximum of 200 epochs."
      ],
      "metadata": {
        "id": "zfyI75Hsd-Ca"
      }
    },
    {
      "cell_type": "code",
      "source": [
        "history = model.fit(train_generator,\n",
        "                    steps_per_epoch=train_steps,\n",
        "                    epochs=200,\n",
        "                    validation_data=validation_generator,\n",
        "                    validation_steps=val_steps,\n",
        "                    callbacks=[LRDecayCallback, StopCallback],\n",
        "                    verbose=2,\n",
        "                    )\n",
        "\n",
        "plot_history( history )"
      ],
      "metadata": {
        "id": "kz9gpcBCd7R5"
      },
      "execution_count": null,
      "outputs": []
    },
    {
      "cell_type": "markdown",
      "source": [
        "Save the weights of the finished transfer learning."
      ],
      "metadata": {
        "id": "_bngPFj4xKW-"
      }
    },
    {
      "cell_type": "code",
      "source": [
        "from google.colab import drive\n",
        "drive.mount('/content/gdrive')\n",
        "name_of_trained_weights = 'resnet_weights_pre_finished'\n",
        "model.save_weights('/tmp/'+ name_of_trained_weights)\n",
        "\n",
        "%cp /tmp/resnet_weights_pre_finished.data-00000-of-00001 /content/gdrive/My\\ Drive\n",
        "%cp /tmp/resnet_weights_pre_finished.index /content/gdrive/My\\ Drive"
      ],
      "metadata": {
        "colab": {
          "base_uri": "https://localhost:8080/"
        },
        "id": "LoiX_i2GxKD_",
        "outputId": "43e26906-ec7c-4a85-9cdc-88e86c732924"
      },
      "execution_count": null,
      "outputs": [
        {
          "output_type": "stream",
          "name": "stdout",
          "text": [
            "Drive already mounted at /content/gdrive; to attempt to forcibly remount, call drive.mount(\"/content/gdrive\", force_remount=True).\n"
          ]
        }
      ]
    },
    {
      "cell_type": "markdown",
      "source": [
        "---------------------------------------------- END OF TRAINING SECTION ----------------------------------------------------"
      ],
      "metadata": {
        "id": "4DvP_WvkSWD_"
      }
    },
    {
      "cell_type": "markdown",
      "source": [
        "Here you can load already trained weights to the defined model:"
      ],
      "metadata": {
        "id": "5hVV-E8lNkPJ"
      }
    },
    {
      "cell_type": "code",
      "source": [
        "from google.colab import drive\n",
        "drive.mount('/content/gdrive')\n",
        "\n",
        "%cp /content/gdrive/My\\ Drive/efficientnet_weights_pre.data-00000-of-00001 /tmp/\n",
        "%cp /content/gdrive/My\\ Drive/efficientnet_weights_pre.index /tmp/\n",
        "model.load_weights(\"/tmp/efficientnet_weights_pre\")"
      ],
      "metadata": {
        "id": "R-g6F74xMjkC"
      },
      "execution_count": null,
      "outputs": []
    },
    {
      "cell_type": "markdown",
      "source": [
        "Now lets take a look at the results:"
      ],
      "metadata": {
        "id": "c9rmGcSILOi2"
      }
    },
    {
      "cell_type": "code",
      "source": [
        "# Use the model to predict on the 1719 images of the test generator\n",
        "pred = model.predict_generator(test_generator,  1719)\n",
        "# And get their according labels\n",
        "predicted_class_indices=np.argmax(pred,axis=1)\n",
        "labels=(test_generator.class_indices)\n",
        "# Swap indices with label for comparison\n",
        "labels2=dict((v,k) for k,v in labels.items())\n",
        "# Output the label as human readable prediction \n",
        "predictions=[labels2[k] for k in predicted_class_indices]\n",
        "\n",
        "print(predicted_class_indices)\n",
        "print(labels)\n",
        "print(predictions)"
      ],
      "metadata": {
        "id": "BbXeCC7ckFmX",
        "colab": {
          "base_uri": "https://localhost:8080/"
        },
        "outputId": "4324eddf-4a07-404b-89dd-9e6ddd9d20f9"
      },
      "execution_count": null,
      "outputs": [
        {
          "output_type": "stream",
          "name": "stderr",
          "text": [
            "/usr/local/lib/python3.7/dist-packages/ipykernel_launcher.py:2: UserWarning: `Model.predict_generator` is deprecated and will be removed in a future version. Please use `Model.predict`, which supports generators.\n",
            "  \n"
          ]
        },
        {
          "output_type": "stream",
          "name": "stdout",
          "text": [
            "WARNING:tensorflow:Your input ran out of data; interrupting training. Make sure that your dataset or generator can generate at least `steps_per_epoch * epochs` batches (in this case, 1719 batches). You may need to use the repeat() function when building your dataset.\n",
            "[0 3 1 ... 1 3 1]\n",
            "{'bee': 0, 'insect': 1, 'other': 2, 'wasp': 3}\n",
            "['bee', 'wasp', 'insect', 'wasp', 'insect', 'insect', 'wasp', 'bee', 'insect', 'wasp', 'wasp', 'bee', 'bee', 'wasp', 'bee', 'wasp', 'bee', 'insect', 'bee', 'bee', 'bee', 'insect', 'wasp', 'wasp', 'bee', 'wasp', 'insect', 'bee', 'wasp', 'bee', 'wasp', 'bee', 'other', 'wasp', 'bee', 'insect', 'insect', 'other', 'insect', 'wasp', 'insect', 'insect', 'wasp', 'bee', 'wasp', 'bee', 'insect', 'bee', 'insect', 'bee', 'bee', 'insect', 'insect', 'insect', 'wasp', 'wasp', 'wasp', 'wasp', 'wasp', 'bee', 'other', 'wasp', 'wasp', 'wasp', 'bee', 'wasp', 'wasp', 'insect', 'bee', 'wasp', 'bee', 'bee', 'wasp', 'wasp', 'other', 'insect', 'bee', 'wasp', 'wasp', 'bee', 'bee', 'insect', 'bee', 'bee', 'wasp', 'bee', 'wasp', 'wasp', 'insect', 'bee', 'insect', 'wasp', 'other', 'wasp', 'insect', 'wasp', 'bee', 'wasp', 'wasp', 'wasp', 'bee', 'wasp', 'wasp', 'wasp', 'wasp', 'insect', 'wasp', 'insect', 'bee', 'bee', 'wasp', 'wasp', 'bee', 'other', 'wasp', 'wasp', 'wasp', 'bee', 'wasp', 'bee', 'bee', 'bee', 'insect', 'bee', 'wasp', 'wasp', 'wasp', 'other', 'bee', 'other', 'insect', 'wasp', 'wasp', 'insect', 'wasp', 'wasp', 'wasp', 'bee', 'insect', 'bee', 'wasp', 'wasp', 'insect', 'bee', 'insect', 'bee', 'wasp', 'wasp', 'wasp', 'bee', 'wasp', 'wasp', 'insect', 'wasp', 'bee', 'bee', 'wasp', 'wasp', 'bee', 'bee', 'wasp', 'wasp', 'wasp', 'insect', 'wasp', 'insect', 'bee', 'wasp', 'wasp', 'insect', 'wasp', 'insect', 'bee', 'bee', 'wasp', 'bee', 'insect', 'insect', 'wasp', 'wasp', 'wasp', 'bee', 'bee', 'wasp', 'other', 'bee', 'wasp', 'bee', 'other', 'wasp', 'bee', 'other', 'wasp', 'wasp', 'insect', 'bee', 'wasp', 'bee', 'other', 'other', 'bee', 'bee', 'bee', 'wasp', 'bee', 'insect', 'bee', 'bee', 'wasp', 'wasp', 'wasp', 'wasp', 'bee', 'wasp', 'other', 'bee', 'wasp', 'bee', 'wasp', 'bee', 'bee', 'wasp', 'insect', 'wasp', 'bee', 'bee', 'wasp', 'wasp', 'bee', 'wasp', 'other', 'wasp', 'bee', 'other', 'wasp', 'insect', 'insect', 'bee', 'wasp', 'bee', 'bee', 'wasp', 'wasp', 'bee', 'wasp', 'wasp', 'bee', 'bee', 'wasp', 'bee', 'bee', 'bee', 'wasp', 'wasp', 'wasp', 'wasp', 'bee', 'wasp', 'insect', 'insect', 'bee', 'wasp', 'insect', 'wasp', 'wasp', 'bee', 'bee', 'wasp', 'wasp', 'wasp', 'other', 'wasp', 'other', 'insect', 'wasp', 'wasp', 'bee', 'insect', 'wasp', 'bee', 'bee', 'other', 'wasp', 'wasp', 'bee', 'wasp', 'wasp', 'wasp', 'bee', 'insect', 'bee', 'insect', 'bee', 'other', 'bee', 'bee', 'bee', 'wasp', 'bee', 'bee', 'bee', 'bee', 'wasp', 'wasp', 'wasp', 'wasp', 'other', 'wasp', 'wasp', 'other', 'wasp', 'bee', 'bee', 'other', 'bee', 'wasp', 'wasp', 'bee', 'bee', 'other', 'insect', 'insect', 'wasp', 'wasp', 'wasp', 'bee', 'insect', 'wasp', 'bee', 'insect', 'bee', 'wasp', 'bee', 'bee', 'wasp', 'wasp', 'insect', 'bee', 'wasp', 'bee', 'insect', 'wasp', 'bee', 'wasp', 'other', 'wasp', 'bee', 'bee', 'wasp', 'wasp', 'bee', 'other', 'wasp', 'wasp', 'wasp', 'insect', 'bee', 'insect', 'wasp', 'insect', 'wasp', 'insect', 'other', 'wasp', 'insect', 'insect', 'wasp', 'wasp', 'insect', 'bee', 'wasp', 'bee', 'other', 'wasp', 'bee', 'wasp', 'other', 'wasp', 'bee', 'wasp', 'wasp', 'wasp', 'bee', 'wasp', 'bee', 'wasp', 'wasp', 'wasp', 'wasp', 'bee', 'insect', 'wasp', 'wasp', 'insect', 'wasp', 'insect', 'wasp', 'wasp', 'wasp', 'wasp', 'wasp', 'wasp', 'wasp', 'other', 'bee', 'bee', 'bee', 'wasp', 'bee', 'wasp', 'bee', 'wasp', 'insect', 'other', 'bee', 'insect', 'insect', 'bee', 'other', 'other', 'other', 'bee', 'bee', 'wasp', 'wasp', 'insect', 'wasp', 'other', 'insect', 'wasp', 'insect', 'bee', 'insect', 'bee', 'bee', 'other', 'insect', 'wasp', 'insect', 'wasp', 'wasp', 'wasp', 'other', 'insect', 'other', 'wasp', 'bee', 'wasp', 'bee', 'wasp', 'insect', 'insect', 'wasp', 'wasp', 'other', 'insect', 'wasp', 'other', 'bee', 'insect', 'wasp', 'wasp', 'wasp', 'wasp', 'bee', 'bee', 'wasp', 'wasp', 'wasp', 'wasp', 'wasp', 'insect', 'other', 'bee', 'bee', 'bee', 'insect', 'wasp', 'bee', 'wasp', 'wasp', 'bee', 'wasp', 'wasp', 'wasp', 'wasp', 'insect', 'wasp', 'other', 'insect', 'bee', 'other', 'wasp', 'wasp', 'bee', 'other', 'bee', 'other', 'insect', 'wasp', 'bee', 'bee', 'wasp', 'bee', 'wasp', 'wasp', 'bee', 'bee', 'wasp', 'wasp', 'wasp', 'wasp', 'bee', 'insect', 'bee', 'insect', 'insect', 'wasp', 'bee', 'insect', 'wasp', 'bee', 'bee', 'insect', 'wasp', 'wasp', 'wasp', 'insect', 'wasp', 'wasp', 'bee', 'wasp', 'wasp', 'insect', 'wasp', 'bee', 'wasp', 'bee', 'wasp', 'wasp', 'wasp', 'insect', 'wasp', 'wasp', 'wasp', 'bee', 'wasp', 'wasp', 'wasp', 'insect', 'insect', 'insect', 'insect', 'wasp', 'wasp', 'wasp', 'wasp', 'insect', 'bee', 'bee', 'wasp', 'wasp', 'bee', 'wasp', 'other', 'other', 'bee', 'wasp', 'wasp', 'bee', 'bee', 'insect', 'wasp', 'wasp', 'wasp', 'wasp', 'insect', 'wasp', 'wasp', 'wasp', 'bee', 'insect', 'insect', 'wasp', 'wasp', 'wasp', 'wasp', 'wasp', 'wasp', 'wasp', 'wasp', 'wasp', 'bee', 'insect', 'bee', 'insect', 'wasp', 'wasp', 'wasp', 'bee', 'insect', 'bee', 'other', 'other', 'wasp', 'insect', 'bee', 'wasp', 'wasp', 'bee', 'bee', 'bee', 'bee', 'bee', 'wasp', 'wasp', 'bee', 'wasp', 'bee', 'insect', 'wasp', 'insect', 'wasp', 'bee', 'bee', 'wasp', 'wasp', 'wasp', 'bee', 'bee', 'wasp', 'wasp', 'insect', 'insect', 'wasp', 'bee', 'wasp', 'insect', 'bee', 'bee', 'bee', 'wasp', 'bee', 'bee', 'other', 'bee', 'wasp', 'wasp', 'bee', 'wasp', 'bee', 'bee', 'bee', 'wasp', 'insect', 'insect', 'insect', 'wasp', 'wasp', 'bee', 'bee', 'insect', 'wasp', 'wasp', 'insect', 'bee', 'bee', 'insect', 'insect', 'bee', 'wasp', 'other', 'other', 'wasp', 'insect', 'wasp', 'wasp', 'insect', 'insect', 'wasp', 'wasp', 'wasp', 'bee', 'insect', 'wasp', 'wasp', 'wasp', 'wasp', 'wasp', 'bee', 'other', 'wasp', 'wasp', 'wasp', 'bee', 'insect', 'other', 'insect', 'wasp', 'bee', 'bee', 'wasp', 'insect', 'bee', 'wasp', 'other', 'bee', 'insect', 'wasp', 'bee', 'bee', 'insect', 'wasp', 'insect', 'wasp', 'wasp', 'wasp', 'wasp', 'wasp', 'wasp', 'wasp', 'wasp', 'wasp', 'wasp', 'wasp', 'insect', 'bee', 'wasp', 'other', 'wasp', 'insect', 'other', 'bee', 'insect', 'bee', 'wasp', 'bee', 'insect', 'wasp', 'insect', 'bee', 'bee', 'bee', 'wasp', 'wasp', 'bee', 'bee', 'wasp', 'bee', 'insect', 'wasp', 'bee', 'insect', 'wasp', 'wasp', 'wasp', 'wasp', 'bee', 'wasp', 'bee', 'insect', 'wasp', 'insect', 'bee', 'bee', 'bee', 'wasp', 'bee', 'wasp', 'bee', 'insect', 'insect', 'wasp', 'insect', 'bee', 'insect', 'insect', 'bee', 'wasp', 'bee', 'bee', 'bee', 'wasp', 'bee', 'other', 'bee', 'insect', 'wasp', 'wasp', 'wasp', 'wasp', 'bee', 'bee', 'wasp', 'insect', 'wasp', 'bee', 'wasp', 'insect', 'bee', 'bee', 'insect', 'wasp', 'bee', 'wasp', 'bee', 'insect', 'bee', 'wasp', 'bee', 'bee', 'bee', 'insect', 'bee', 'wasp', 'wasp', 'wasp', 'insect', 'bee', 'wasp', 'other', 'bee', 'other', 'insect', 'insect', 'wasp', 'bee', 'wasp', 'wasp', 'other', 'insect', 'wasp', 'wasp', 'wasp', 'wasp', 'wasp', 'bee', 'other', 'insect', 'bee', 'other', 'wasp', 'bee', 'wasp', 'wasp', 'bee', 'other', 'insect', 'insect', 'other', 'other', 'insect', 'insect', 'bee', 'bee', 'bee', 'bee', 'insect', 'bee', 'wasp', 'wasp', 'wasp', 'wasp', 'bee', 'wasp', 'wasp', 'bee', 'wasp', 'insect', 'wasp', 'insect', 'wasp', 'bee', 'insect', 'insect', 'wasp', 'other', 'bee', 'wasp', 'insect', 'insect', 'insect', 'insect', 'bee', 'bee', 'wasp', 'bee', 'wasp', 'bee', 'insect', 'other', 'wasp', 'insect', 'wasp', 'insect', 'insect', 'other', 'wasp', 'wasp', 'insect', 'wasp', 'wasp', 'wasp', 'wasp', 'wasp', 'bee', 'other', 'bee', 'wasp', 'wasp', 'bee', 'wasp', 'wasp', 'bee', 'bee', 'wasp', 'insect', 'wasp', 'insect', 'bee', 'bee', 'wasp', 'bee', 'wasp', 'other', 'bee', 'wasp', 'bee', 'wasp', 'bee', 'bee', 'insect', 'bee', 'bee', 'wasp', 'bee', 'insect', 'wasp', 'wasp', 'wasp', 'wasp', 'bee', 'wasp', 'wasp', 'bee', 'bee', 'wasp', 'wasp', 'wasp', 'bee', 'bee', 'insect', 'insect', 'wasp', 'wasp', 'wasp', 'wasp', 'wasp', 'wasp', 'bee', 'wasp', 'bee', 'wasp', 'bee', 'wasp', 'insect', 'other', 'wasp', 'wasp', 'wasp', 'wasp', 'insect', 'bee', 'wasp', 'wasp', 'insect', 'bee', 'wasp', 'bee', 'bee', 'other', 'wasp', 'insect', 'bee', 'wasp', 'wasp', 'insect', 'wasp', 'bee', 'bee', 'wasp', 'insect', 'insect', 'bee', 'wasp', 'insect', 'wasp', 'bee', 'insect', 'insect', 'insect', 'insect', 'wasp', 'insect', 'insect', 'bee', 'bee', 'insect', 'wasp', 'bee', 'wasp', 'wasp', 'wasp', 'bee', 'wasp', 'insect', 'bee', 'bee', 'insect', 'bee', 'wasp', 'wasp', 'wasp', 'bee', 'wasp', 'wasp', 'wasp', 'other', 'other', 'wasp', 'bee', 'wasp', 'bee', 'wasp', 'bee', 'wasp', 'wasp', 'wasp', 'wasp', 'wasp', 'bee', 'bee', 'wasp', 'bee', 'wasp', 'wasp', 'bee', 'bee', 'bee', 'insect', 'bee', 'insect', 'other', 'bee', 'insect', 'insect', 'bee', 'insect', 'insect', 'wasp', 'insect', 'bee', 'wasp', 'wasp', 'insect', 'insect', 'wasp', 'bee', 'insect', 'wasp', 'insect', 'wasp', 'wasp', 'bee', 'wasp', 'wasp', 'bee', 'insect', 'insect', 'bee', 'other', 'wasp', 'bee', 'wasp', 'bee', 'insect', 'insect', 'bee', 'other', 'bee', 'wasp', 'wasp', 'wasp', 'bee', 'bee', 'wasp', 'wasp', 'other', 'wasp', 'wasp', 'bee', 'wasp', 'insect', 'wasp', 'insect', 'insect', 'bee', 'insect', 'wasp', 'wasp', 'wasp', 'insect', 'bee', 'wasp', 'wasp', 'insect', 'wasp', 'wasp', 'wasp', 'bee', 'bee', 'other', 'insect', 'wasp', 'insect', 'wasp', 'bee', 'wasp', 'insect', 'wasp', 'other', 'wasp', 'wasp', 'wasp', 'bee', 'wasp', 'wasp', 'other', 'bee', 'wasp', 'insect', 'bee', 'bee', 'wasp', 'other', 'wasp', 'wasp', 'other', 'other', 'wasp', 'wasp', 'bee', 'insect', 'other', 'wasp', 'insect', 'wasp', 'wasp', 'bee', 'insect', 'bee', 'bee', 'wasp', 'insect', 'insect', 'insect', 'bee', 'wasp', 'insect', 'wasp', 'wasp', 'other', 'wasp', 'bee', 'wasp', 'insect', 'insect', 'wasp', 'insect', 'other', 'wasp', 'insect', 'other', 'wasp', 'wasp', 'bee', 'insect', 'wasp', 'bee', 'bee', 'bee', 'insect', 'bee', 'other', 'wasp', 'bee', 'insect', 'insect', 'insect', 'bee', 'other', 'wasp', 'other', 'insect', 'wasp', 'other', 'wasp', 'wasp', 'wasp', 'wasp', 'wasp', 'insect', 'wasp', 'insect', 'insect', 'wasp', 'insect', 'wasp', 'other', 'insect', 'other', 'wasp', 'insect', 'wasp', 'wasp', 'wasp', 'bee', 'bee', 'other', 'insect', 'insect', 'bee', 'bee', 'bee', 'bee', 'wasp', 'wasp', 'insect', 'bee', 'wasp', 'wasp', 'wasp', 'insect', 'wasp', 'wasp', 'wasp', 'bee', 'insect', 'bee', 'other', 'wasp', 'bee', 'bee', 'bee', 'wasp', 'wasp', 'insect', 'insect', 'insect', 'bee', 'insect', 'other', 'bee', 'wasp', 'wasp', 'insect', 'wasp', 'wasp', 'wasp', 'wasp', 'wasp', 'wasp', 'insect', 'insect', 'wasp', 'wasp', 'wasp', 'wasp', 'bee', 'bee', 'wasp', 'wasp', 'wasp', 'wasp', 'wasp', 'wasp', 'bee', 'bee', 'bee', 'bee', 'wasp', 'wasp', 'wasp', 'wasp', 'insect', 'wasp', 'wasp', 'wasp', 'wasp', 'wasp', 'wasp', 'wasp', 'wasp', 'insect', 'bee', 'insect', 'bee', 'wasp', 'wasp', 'bee', 'insect', 'bee', 'insect', 'bee', 'other', 'wasp', 'wasp', 'bee', 'bee', 'wasp', 'insect', 'bee', 'wasp', 'other', 'other', 'wasp', 'bee', 'bee', 'bee', 'wasp', 'bee', 'wasp', 'wasp', 'wasp', 'bee', 'bee', 'wasp', 'bee', 'bee', 'wasp', 'insect', 'wasp', 'bee', 'insect', 'insect', 'bee', 'wasp', 'insect', 'bee', 'bee', 'wasp', 'other', 'other', 'insect', 'other', 'bee', 'insect', 'insect', 'bee', 'bee', 'wasp', 'wasp', 'bee', 'other', 'wasp', 'wasp', 'bee', 'wasp', 'insect', 'insect', 'wasp', 'wasp', 'insect', 'wasp', 'wasp', 'other', 'bee', 'insect', 'wasp', 'bee', 'wasp', 'insect', 'insect', 'wasp', 'bee', 'wasp', 'wasp', 'insect', 'insect', 'wasp', 'insect', 'wasp', 'insect', 'bee', 'wasp', 'insect', 'wasp', 'bee', 'bee', 'bee', 'wasp', 'insect', 'bee', 'wasp', 'wasp', 'bee', 'insect', 'other', 'insect', 'insect', 'wasp', 'insect', 'wasp', 'insect', 'wasp', 'other', 'insect', 'insect', 'insect', 'other', 'wasp', 'bee', 'other', 'wasp', 'insect', 'bee', 'bee', 'bee', 'wasp', 'insect', 'wasp', 'bee', 'wasp', 'bee', 'insect', 'bee', 'other', 'bee', 'insect', 'bee', 'insect', 'wasp', 'bee', 'wasp', 'insect', 'wasp', 'insect', 'insect', 'insect', 'bee', 'other', 'wasp', 'wasp', 'wasp', 'wasp', 'wasp', 'insect', 'bee', 'wasp', 'wasp', 'wasp', 'bee', 'wasp', 'wasp', 'bee', 'insect', 'insect', 'bee', 'bee', 'insect', 'bee', 'wasp', 'insect', 'bee', 'wasp', 'wasp', 'wasp', 'wasp', 'wasp', 'other', 'wasp', 'wasp', 'insect', 'wasp', 'wasp', 'insect', 'insect', 'wasp', 'other', 'wasp', 'bee', 'wasp', 'other', 'wasp', 'wasp', 'insect', 'wasp', 'other', 'wasp', 'wasp', 'wasp', 'bee', 'bee', 'bee', 'insect', 'insect', 'bee', 'insect', 'bee', 'bee', 'bee', 'insect', 'insect', 'other', 'bee', 'bee', 'bee', 'wasp', 'bee', 'wasp', 'wasp', 'bee', 'wasp', 'bee', 'wasp', 'wasp', 'wasp', 'bee', 'wasp', 'wasp', 'insect', 'wasp', 'insect', 'bee', 'wasp', 'wasp', 'bee', 'insect', 'wasp', 'insect', 'insect', 'bee', 'insect', 'bee', 'insect', 'wasp', 'bee', 'wasp', 'other', 'bee', 'bee', 'wasp', 'wasp', 'wasp', 'wasp', 'insect', 'wasp', 'other', 'wasp', 'other', 'wasp', 'wasp', 'wasp', 'wasp', 'wasp', 'insect', 'wasp', 'bee', 'bee', 'insect', 'insect', 'wasp', 'bee', 'other', 'wasp', 'wasp', 'wasp', 'wasp', 'bee', 'wasp', 'insect', 'wasp', 'bee', 'wasp', 'wasp', 'insect', 'bee', 'bee', 'wasp', 'bee', 'wasp', 'wasp', 'bee', 'wasp', 'insect', 'wasp', 'wasp', 'wasp', 'wasp', 'bee', 'bee', 'wasp', 'bee', 'wasp', 'other', 'other', 'other', 'bee', 'bee', 'wasp', 'bee', 'insect', 'insect', 'bee', 'bee', 'bee', 'bee', 'wasp', 'wasp', 'wasp', 'insect', 'insect', 'wasp', 'wasp', 'bee', 'insect', 'wasp', 'wasp', 'wasp', 'insect', 'wasp', 'wasp', 'wasp', 'bee', 'wasp', 'wasp', 'insect', 'bee', 'insect', 'insect', 'bee', 'insect', 'wasp', 'wasp', 'bee', 'insect', 'wasp', 'wasp', 'bee', 'wasp', 'wasp', 'insect', 'bee', 'wasp', 'other', 'insect', 'wasp', 'wasp', 'insect', 'wasp', 'bee', 'bee', 'wasp', 'wasp', 'wasp', 'wasp', 'wasp', 'bee', 'wasp', 'wasp', 'bee', 'bee', 'bee', 'bee', 'insect', 'bee', 'insect', 'bee', 'insect', 'other', 'bee', 'wasp', 'other', 'insect', 'wasp', 'bee', 'wasp', 'wasp', 'wasp', 'wasp', 'wasp', 'wasp', 'wasp', 'bee', 'insect', 'other', 'wasp', 'wasp', 'insect', 'insect', 'other', 'wasp', 'bee', 'other', 'wasp', 'wasp', 'wasp', 'insect', 'bee', 'insect', 'insect', 'wasp', 'bee', 'wasp', 'bee', 'other', 'insect', 'wasp', 'insect']\n"
          ]
        }
      ]
    },
    {
      "cell_type": "markdown",
      "source": [
        "Now we can print a confusion Matrix to see how big the error of our trained model is:"
      ],
      "metadata": {
        "id": "mdDntwH6lBHa"
      }
    },
    {
      "cell_type": "code",
      "source": [
        "from sklearn.metrics import confusion_matrix\n",
        "print(confusion_matrix(test_df[\"label\"],predictions))"
      ],
      "metadata": {
        "id": "tCgkZwPckKDb",
        "colab": {
          "base_uri": "https://localhost:8080/"
        },
        "outputId": "895f13c6-e47b-48ea-f035-a2e5b4edd695"
      },
      "execution_count": null,
      "outputs": [
        {
          "output_type": "stream",
          "name": "stdout",
          "text": [
            "[[460   7   0  17]\n",
            " [  9 320   0  28]\n",
            " [  0   0 124   4]\n",
            " [ 25  23   7 695]]\n"
          ]
        }
      ]
    },
    {
      "cell_type": "markdown",
      "source": [
        "Now that we have some Metrics lets test our Predictions on some images:"
      ],
      "metadata": {
        "id": "QHWcW2siRoU6"
      }
    },
    {
      "cell_type": "code",
      "source": [
        "def displayImagesLabelsAndPredictions(array_of_idx):\n",
        "  plt.figure(figsize=(15,10))\n",
        "  pos = 1\n",
        "  idx = 0\n",
        "  for row in np.array(test_df['path'])[array_of_idx]:\n",
        "    img = cv2.imread(row)\n",
        "    #Resize all images with the same size\n",
        "    #img = cv2.resize(img, (128, 128))\n",
        "    #Set RGB color for image\n",
        "    img = cv2.cvtColor(img, cv2.COLOR_BGR2RGB)\n",
        "    #Display image, and set title\n",
        "    plt.subplot(4, 5, pos)\n",
        "    plt.imshow(img)\n",
        "    plt.title(\"label: \"+str((np.array(test_df[\"label\"])[array_of_idx][idx])+\"\\n prediction: \"+str(np.array(predictions)[array_of_idx][idx])))\n",
        "    plt.subplots_adjust(left=0.1,\n",
        "                    bottom=0.1, \n",
        "                    right=0.9, \n",
        "                    top=0.9, \n",
        "                    wspace=0.4, \n",
        "                    hspace=0.4)\n",
        "    #Remove ticks\n",
        "    plt.xticks([])\n",
        "    plt.yticks([])\n",
        "    pos+=1\n",
        "    idx+=1\n",
        "  plt.show()"
      ],
      "metadata": {
        "id": "Gk-C4ViNQ5t1"
      },
      "execution_count": null,
      "outputs": []
    }
  ]
}